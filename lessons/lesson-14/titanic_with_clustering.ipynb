{
 "cells": [
  {
   "cell_type": "code",
   "execution_count": 58,
   "metadata": {
    "collapsed": true
   },
   "outputs": [],
   "source": [
    "import pandas as pd\n",
    "import numpy as np\n",
    "\n",
    "import matplotlib.pyplot as plt\n",
    "import seaborn as sns\n",
    "%matplotlib inline\n",
    "\n",
    "import re\n",
    "\n",
    "from sklearn.model_selection import cross_val_score\n",
    "from sklearn import (\n",
    "    metrics, \n",
    "    linear_model, \n",
    "    ensemble,\n",
    "    neighbors,\n",
    ")"
   ]
  },
  {
   "cell_type": "code",
   "execution_count": 59,
   "metadata": {
    "collapsed": true
   },
   "outputs": [],
   "source": [
    "df = pd.read_csv('../../data/titanic_train.csv')"
   ]
  },
  {
   "cell_type": "code",
   "execution_count": 60,
   "metadata": {},
   "outputs": [
    {
     "data": {
      "text/html": [
       "<div>\n",
       "<style>\n",
       "    .dataframe thead tr:only-child th {\n",
       "        text-align: right;\n",
       "    }\n",
       "\n",
       "    .dataframe thead th {\n",
       "        text-align: left;\n",
       "    }\n",
       "\n",
       "    .dataframe tbody tr th {\n",
       "        vertical-align: top;\n",
       "    }\n",
       "</style>\n",
       "<table border=\"1\" class=\"dataframe\">\n",
       "  <thead>\n",
       "    <tr style=\"text-align: right;\">\n",
       "      <th></th>\n",
       "      <th>PassengerId</th>\n",
       "      <th>Survived</th>\n",
       "      <th>Pclass</th>\n",
       "      <th>Name</th>\n",
       "      <th>Sex</th>\n",
       "      <th>Age</th>\n",
       "      <th>SibSp</th>\n",
       "      <th>Parch</th>\n",
       "      <th>Ticket</th>\n",
       "      <th>Fare</th>\n",
       "      <th>Cabin</th>\n",
       "      <th>Embarked</th>\n",
       "    </tr>\n",
       "  </thead>\n",
       "  <tbody>\n",
       "    <tr>\n",
       "      <th>0</th>\n",
       "      <td>1</td>\n",
       "      <td>0</td>\n",
       "      <td>3</td>\n",
       "      <td>Braund, Mr. Owen Harris</td>\n",
       "      <td>male</td>\n",
       "      <td>22.0</td>\n",
       "      <td>1</td>\n",
       "      <td>0</td>\n",
       "      <td>A/5 21171</td>\n",
       "      <td>7.2500</td>\n",
       "      <td>NaN</td>\n",
       "      <td>S</td>\n",
       "    </tr>\n",
       "    <tr>\n",
       "      <th>1</th>\n",
       "      <td>2</td>\n",
       "      <td>1</td>\n",
       "      <td>1</td>\n",
       "      <td>Cumings, Mrs. John Bradley (Florence Briggs Th...</td>\n",
       "      <td>female</td>\n",
       "      <td>38.0</td>\n",
       "      <td>1</td>\n",
       "      <td>0</td>\n",
       "      <td>PC 17599</td>\n",
       "      <td>71.2833</td>\n",
       "      <td>C85</td>\n",
       "      <td>C</td>\n",
       "    </tr>\n",
       "    <tr>\n",
       "      <th>2</th>\n",
       "      <td>3</td>\n",
       "      <td>1</td>\n",
       "      <td>3</td>\n",
       "      <td>Heikkinen, Miss. Laina</td>\n",
       "      <td>female</td>\n",
       "      <td>26.0</td>\n",
       "      <td>0</td>\n",
       "      <td>0</td>\n",
       "      <td>STON/O2. 3101282</td>\n",
       "      <td>7.9250</td>\n",
       "      <td>NaN</td>\n",
       "      <td>S</td>\n",
       "    </tr>\n",
       "    <tr>\n",
       "      <th>3</th>\n",
       "      <td>4</td>\n",
       "      <td>1</td>\n",
       "      <td>1</td>\n",
       "      <td>Futrelle, Mrs. Jacques Heath (Lily May Peel)</td>\n",
       "      <td>female</td>\n",
       "      <td>35.0</td>\n",
       "      <td>1</td>\n",
       "      <td>0</td>\n",
       "      <td>113803</td>\n",
       "      <td>53.1000</td>\n",
       "      <td>C123</td>\n",
       "      <td>S</td>\n",
       "    </tr>\n",
       "    <tr>\n",
       "      <th>4</th>\n",
       "      <td>5</td>\n",
       "      <td>0</td>\n",
       "      <td>3</td>\n",
       "      <td>Allen, Mr. William Henry</td>\n",
       "      <td>male</td>\n",
       "      <td>35.0</td>\n",
       "      <td>0</td>\n",
       "      <td>0</td>\n",
       "      <td>373450</td>\n",
       "      <td>8.0500</td>\n",
       "      <td>NaN</td>\n",
       "      <td>S</td>\n",
       "    </tr>\n",
       "  </tbody>\n",
       "</table>\n",
       "</div>"
      ],
      "text/plain": [
       "   PassengerId  Survived  Pclass  \\\n",
       "0            1         0       3   \n",
       "1            2         1       1   \n",
       "2            3         1       3   \n",
       "3            4         1       1   \n",
       "4            5         0       3   \n",
       "\n",
       "                                                Name     Sex   Age  SibSp  \\\n",
       "0                            Braund, Mr. Owen Harris    male  22.0      1   \n",
       "1  Cumings, Mrs. John Bradley (Florence Briggs Th...  female  38.0      1   \n",
       "2                             Heikkinen, Miss. Laina  female  26.0      0   \n",
       "3       Futrelle, Mrs. Jacques Heath (Lily May Peel)  female  35.0      1   \n",
       "4                           Allen, Mr. William Henry    male  35.0      0   \n",
       "\n",
       "   Parch            Ticket     Fare Cabin Embarked  \n",
       "0      0         A/5 21171   7.2500   NaN        S  \n",
       "1      0          PC 17599  71.2833   C85        C  \n",
       "2      0  STON/O2. 3101282   7.9250   NaN        S  \n",
       "3      0            113803  53.1000  C123        S  \n",
       "4      0            373450   8.0500   NaN        S  "
      ]
     },
     "execution_count": 60,
     "metadata": {},
     "output_type": "execute_result"
    }
   ],
   "source": [
    "df.head()"
   ]
  },
  {
   "cell_type": "code",
   "execution_count": 61,
   "metadata": {
    "collapsed": true
   },
   "outputs": [],
   "source": [
    "features = ['Pclass', 'Fare', 'Parch', 'SibSp']\n",
    "target = 'Survived'\n",
    "\n",
    "X = df[features]\n",
    "y = df[target]"
   ]
  },
  {
   "cell_type": "code",
   "execution_count": 62,
   "metadata": {
    "collapsed": true
   },
   "outputs": [],
   "source": [
    "def evaluate_models(X, y):\n",
    "    \n",
    "    cls = ensemble.RandomForestClassifier(n_estimators=50) \n",
    "    cls.fit(X, y)\n",
    "\n",
    "    print 'Random Forest:', cross_val_score(cls, X, y, scoring='roc_auc', cv=5).mean()\n",
    "    \n",
    "    cls = linear_model.LogisticRegression() \n",
    "    cls.fit(X, y)\n",
    "\n",
    "    print 'Logistic Regression:', cross_val_score(cls, X, y, scoring='roc_auc', cv=5).mean()\n",
    "    \n",
    "    cls = ensemble.GradientBoostingClassifier(n_estimators=50) \n",
    "    cls.fit(X, y)\n",
    "\n",
    "    print 'GBDT:', cross_val_score(cls, X, y, scoring='roc_auc', cv=5).mean()\n",
    "    \n",
    "    cls = neighbors.KNeighborsClassifier(n_neighbors=5)\n",
    "    cls.fit(X, y)\n",
    "\n",
    "    print 'KNN:', cross_val_score(cls, X, y, scoring='roc_auc', cv=5).mean()"
   ]
  },
  {
   "cell_type": "code",
   "execution_count": 63,
   "metadata": {},
   "outputs": [
    {
     "name": "stdout",
     "output_type": "stream",
     "text": [
      "Random Forest: 0.727256688403\n",
      "Logistic Regression: 0.706209190026\n",
      "GBDT: 0.755219476375\n",
      "KNN: 0.698138660947\n"
     ]
    }
   ],
   "source": [
    "evaluate_models(X, y)"
   ]
  },
  {
   "cell_type": "code",
   "execution_count": 64,
   "metadata": {
    "collapsed": true
   },
   "outputs": [],
   "source": [
    "df['Sex_value'] = df['Sex'].map(lambda x: 0 if x == 'male' else 1)"
   ]
  },
  {
   "cell_type": "code",
   "execution_count": 65,
   "metadata": {
    "collapsed": true
   },
   "outputs": [],
   "source": [
    "# Equivalent to the line above\n",
    "def convert_to_value(x):\n",
    "    if x == 'male':\n",
    "        return 0\n",
    "    else:\n",
    "        return 1"
   ]
  },
  {
   "cell_type": "code",
   "execution_count": 66,
   "metadata": {},
   "outputs": [
    {
     "name": "stdout",
     "output_type": "stream",
     "text": [
      "Random Forest: 0.845574914304\n",
      "Logistic Regression: 0.831267335596\n",
      "GBDT: 0.856609649843\n",
      "KNN: 0.788960600159\n"
     ]
    }
   ],
   "source": [
    "features = ['Pclass', 'Fare', 'Parch', 'SibSp', 'Sex_value']\n",
    "target = 'Survived'\n",
    "\n",
    "X = df[features]\n",
    "y = df[target]\n",
    "\n",
    "evaluate_models(X, y)"
   ]
  },
  {
   "cell_type": "code",
   "execution_count": 67,
   "metadata": {},
   "outputs": [
    {
     "data": {
      "text/plain": [
       "177"
      ]
     },
     "execution_count": 67,
     "metadata": {},
     "output_type": "execute_result"
    }
   ],
   "source": [
    "df['Age'].isnull().sum()"
   ]
  },
  {
   "cell_type": "code",
   "execution_count": 68,
   "metadata": {
    "collapsed": true
   },
   "outputs": [],
   "source": [
    "df['Age_fixed'] = df['Age'].fillna(value=df['Age'].median())"
   ]
  },
  {
   "cell_type": "code",
   "execution_count": 69,
   "metadata": {},
   "outputs": [
    {
     "name": "stdout",
     "output_type": "stream",
     "text": [
      "Random Forest: 0.859845091498\n",
      "Logistic Regression: 0.848148698795\n",
      "GBDT: 0.860580957988\n",
      "KNN: 0.720424599002\n"
     ]
    }
   ],
   "source": [
    "features = ['Pclass', 'Fare', 'Parch', 'SibSp', 'Sex_value', 'Age_fixed']\n",
    "target = 'Survived'\n",
    "\n",
    "X = df[features]\n",
    "y = df[target]\n",
    "\n",
    "evaluate_models(X, y)"
   ]
  },
  {
   "cell_type": "code",
   "execution_count": 70,
   "metadata": {
    "collapsed": true
   },
   "outputs": [],
   "source": [
    "df['Age_fixed_normal'] = df['Age_fixed'].map(lambda x: (x - df['Age_fixed'].mean()) / df['Age_fixed'].std())"
   ]
  },
  {
   "cell_type": "code",
   "execution_count": 71,
   "metadata": {},
   "outputs": [
    {
     "name": "stdout",
     "output_type": "stream",
     "text": [
      "Random Forest: 0.856806410855\n",
      "Logistic Regression: 0.847280566286\n",
      "GBDT: 0.860580957988\n",
      "KNN: 0.787972191234\n"
     ]
    }
   ],
   "source": [
    "features = ['Pclass', 'Fare', 'Parch', 'SibSp', 'Sex_value', 'Age_fixed_normal']\n",
    "target = 'Survived'\n",
    "\n",
    "X = df[features]\n",
    "y = df[target]\n",
    "\n",
    "evaluate_models(X, y)"
   ]
  },
  {
   "cell_type": "code",
   "execution_count": 72,
   "metadata": {
    "collapsed": true
   },
   "outputs": [],
   "source": [
    "df['Embarked_fixed'] = df['Embarked'].dropna()"
   ]
  },
  {
   "cell_type": "code",
   "execution_count": 73,
   "metadata": {
    "collapsed": true
   },
   "outputs": [],
   "source": [
    "df = pd.get_dummies(df, prefix='Embk', columns=['Embarked_fixed'], drop_first=True)"
   ]
  },
  {
   "cell_type": "code",
   "execution_count": 74,
   "metadata": {},
   "outputs": [
    {
     "name": "stdout",
     "output_type": "stream",
     "text": [
      "Random Forest: 0.852935154117\n",
      "Logistic Regression: 0.848663549548\n",
      "GBDT: 0.868129398113\n",
      "KNN: 0.784630341639\n"
     ]
    }
   ],
   "source": [
    "features = ['Pclass', 'Fare', 'Parch', 'SibSp', 'Sex_value', 'Age_fixed_normal', 'Embk_Q', 'Embk_S']\n",
    "target = 'Survived'\n",
    "\n",
    "X = df[features]\n",
    "y = df[target]\n",
    "\n",
    "evaluate_models(X, y)"
   ]
  },
  {
   "cell_type": "code",
   "execution_count": 75,
   "metadata": {},
   "outputs": [
    {
     "data": {
      "text/plain": [
       "Embarked\n",
       "C    168\n",
       "Q     77\n",
       "S    644\n",
       "dtype: int64"
      ]
     },
     "execution_count": 75,
     "metadata": {},
     "output_type": "execute_result"
    }
   ],
   "source": [
    "df.groupby('Embarked').size()"
   ]
  },
  {
   "cell_type": "code",
   "execution_count": 76,
   "metadata": {},
   "outputs": [
    {
     "data": {
      "text/plain": [
       "136                         Newsom, Miss. Helen Monypeny\n",
       "10                       Sandstrom, Miss. Marguerite Rut\n",
       "187        Romaine, Mr. Charles Hallace (\"Mr C Rolmane\")\n",
       "869                      Johnson, Master. Harold Theodor\n",
       "533               Peter, Mrs. Catherine (Catherine Rizk)\n",
       "700    Astor, Mrs. John Jacob (Madeleine Talmadge Force)\n",
       "220                       Sunderland, Mr. Victor Francis\n",
       "308                                  Abelson, Mr. Samuel\n",
       "752                     Vande Velde, Mr. Johannes Joseph\n",
       "238                      Pengelly, Mr. Frederick William\n",
       "Name: Name, dtype: object"
      ]
     },
     "execution_count": 76,
     "metadata": {},
     "output_type": "execute_result"
    }
   ],
   "source": [
    "df['Name'].sample(10)"
   ]
  },
  {
   "cell_type": "code",
   "execution_count": 77,
   "metadata": {
    "collapsed": true
   },
   "outputs": [],
   "source": [
    "df['Title'] = df['Name'].map(lambda x: re.search(r'\\s[A-Z][a-z]+\\.', x).group())"
   ]
  },
  {
   "cell_type": "code",
   "execution_count": 78,
   "metadata": {
    "collapsed": true
   },
   "outputs": [],
   "source": [
    "df['Title'] = df['Title'].map(lambda x: {' Ms.': ' Miss.'}.get(x, x))"
   ]
  },
  {
   "cell_type": "code",
   "execution_count": 79,
   "metadata": {
    "collapsed": true
   },
   "outputs": [],
   "source": [
    "df = pd.get_dummies(df, prefix='Title', columns=['Title'], drop_first=True)"
   ]
  },
  {
   "cell_type": "code",
   "execution_count": 80,
   "metadata": {},
   "outputs": [
    {
     "name": "stdout",
     "output_type": "stream",
     "text": [
      "Random Forest: 0.859178302535\n",
      "Logistic Regression: 0.867586014063\n",
      "GBDT: 0.86633605939\n",
      "KNN: 0.804640798989\n"
     ]
    }
   ],
   "source": [
    "titles = [x for x in df.columns if re.search(r'Title\\_', x)]\n",
    "\n",
    "features = ['Pclass', 'Fare', 'Parch', 'SibSp', 'Sex_value', 'Age_fixed_normal', 'Embk_Q', 'Embk_S'] + titles\n",
    "target = 'Survived'\n",
    "\n",
    "X = df[features]\n",
    "y = df[target]\n",
    "\n",
    "evaluate_models(X, y)"
   ]
  },
  {
   "cell_type": "code",
   "execution_count": 81,
   "metadata": {
    "collapsed": true
   },
   "outputs": [],
   "source": [
    "df['Has_cabin'] = df['Cabin'].map(lambda x: 0 if pd.isnull(x) else 1)"
   ]
  },
  {
   "cell_type": "code",
   "execution_count": 82,
   "metadata": {},
   "outputs": [
    {
     "name": "stdout",
     "output_type": "stream",
     "text": [
      "Random Forest: 0.865869444344\n",
      "Logistic Regression: 0.86939726342\n",
      "GBDT: 0.870879610175\n",
      "KNN: 0.743359907766\n"
     ]
    }
   ],
   "source": [
    "titles = [x for x in df.columns if re.search(r'Title\\_', x)]\n",
    "\n",
    "features = ['Pclass', 'Fare', 'Parch', 'SibSp', 'Sex_value', 'Age_fixed', 'Embk_Q', 'Embk_S', 'Has_cabin'] + titles\n",
    "target = 'Survived'\n",
    "\n",
    "X = df[features]\n",
    "y = df[target]\n",
    "\n",
    "evaluate_models(X, y)"
   ]
  },
  {
   "cell_type": "code",
   "execution_count": 83,
   "metadata": {
    "collapsed": true
   },
   "outputs": [],
   "source": [
    "from sklearn import tree\n",
    "\n",
    "cls = tree.DecisionTreeClassifier(max_depth=4)\n",
    "cls.fit(X, y)\n",
    "\n",
    "tree.export_graphviz(cls, out_file='tree.dot')"
   ]
  },
  {
   "cell_type": "code",
   "execution_count": 85,
   "metadata": {},
   "outputs": [
    {
     "data": {
      "text/plain": [
       "0"
      ]
     },
     "execution_count": 85,
     "metadata": {},
     "output_type": "execute_result"
    }
   ],
   "source": [
    "import os\n",
    "os.system('dot -Tpng tree.dot -o tree.png')"
   ]
  },
  {
   "cell_type": "code",
   "execution_count": 86,
   "metadata": {},
   "outputs": [
    {
     "data": {
      "text/plain": [
       "<matplotlib.axes._subplots.AxesSubplot at 0x11e4419d0>"
      ]
     },
     "execution_count": 86,
     "metadata": {},
     "output_type": "execute_result"
    },
    {
     "data": {
      "image/png": "[encoded data removed]",
      "text/plain": [
       "<matplotlib.figure.Figure at 0x11e3c76d0>"
      ]
     },
     "metadata": {},
     "output_type": "display_data"
    }
   ],
   "source": [
    "sns.heatmap(df.corr())"
   ]
  },
  {
   "cell_type": "code",
   "execution_count": 87,
   "metadata": {},
   "outputs": [],
   "source": [
    "from sklearn.cluster import KMeans"
   ]
  },
  {
   "cell_type": "code",
   "execution_count": 88,
   "metadata": {},
   "outputs": [],
   "source": [
    "features = ['Pclass', 'Sex_value', 'Age_fixed_normal', 'Embk_Q', 'Embk_S', 'Has_cabin', 'Fare']"
   ]
  },
  {
   "cell_type": "code",
   "execution_count": 89,
   "metadata": {},
   "outputs": [
    {
     "name": "stdout",
     "output_type": "stream",
     "text": [
      "2 clusters: 0.832532873881\n"
     ]
    }
   ],
   "source": [
    "labels = KMeans(n_clusters=2).fit(df[features]).labels_\n",
    "print '2 clusters:', metrics.silhouette_score(df[features], labels, metric='euclidean')"
   ]
  },
  {
   "cell_type": "code",
   "execution_count": 90,
   "metadata": {},
   "outputs": [
    {
     "name": "stdout",
     "output_type": "stream",
     "text": [
      "3 clusters: 0.761597272299\n"
     ]
    }
   ],
   "source": [
    "labels = KMeans(n_clusters=3).fit(df[features]).labels_\n",
    "print '3 clusters:', metrics.silhouette_score(df[features], labels, metric='euclidean')"
   ]
  },
  {
   "cell_type": "code",
   "execution_count": 91,
   "metadata": {},
   "outputs": [
    {
     "name": "stdout",
     "output_type": "stream",
     "text": [
      "4 clusters: 0.757014523946\n"
     ]
    }
   ],
   "source": [
    "labels = KMeans(n_clusters=4).fit(df[features]).labels_\n",
    "print '4 clusters:', metrics.silhouette_score(df[features], labels, metric='euclidean')"
   ]
  },
  {
   "cell_type": "code",
   "execution_count": 92,
   "metadata": {},
   "outputs": [],
   "source": [
    "# 2 clusters seems to perform the best\n",
    "labels = KMeans(n_clusters=2).fit(df[features]).labels_\n",
    "\n",
    "# Combine the cluster labels with our features\n",
    "data = pd.concat([df, pd.Series(labels)], axis=1)"
   ]
  },
  {
   "cell_type": "code",
   "execution_count": 93,
   "metadata": {
    "collapsed": true
   },
   "outputs": [],
   "source": [
    "# Add in the age and survived features so that we can get descriptive stats about them too\n",
    "features_to_describe = features + ['Age_fixed', 'Survived']"
   ]
  },
  {
   "cell_type": "code",
   "execution_count": 94,
   "metadata": {},
   "outputs": [
    {
     "data": {
      "text/html": [
       "<div>\n",
       "<style>\n",
       "    .dataframe thead tr:only-child th {\n",
       "        text-align: right;\n",
       "    }\n",
       "\n",
       "    .dataframe thead th {\n",
       "        text-align: left;\n",
       "    }\n",
       "\n",
       "    .dataframe tbody tr th {\n",
       "        vertical-align: top;\n",
       "    }\n",
       "</style>\n",
       "<table border=\"1\" class=\"dataframe\">\n",
       "  <thead>\n",
       "    <tr style=\"text-align: right;\">\n",
       "      <th></th>\n",
       "      <th>Pclass</th>\n",
       "      <th>Sex_value</th>\n",
       "      <th>Age_fixed_normal</th>\n",
       "      <th>Embk_Q</th>\n",
       "      <th>Embk_S</th>\n",
       "      <th>Has_cabin</th>\n",
       "      <th>Fare</th>\n",
       "      <th>Age_fixed</th>\n",
       "      <th>Survived</th>\n",
       "    </tr>\n",
       "  </thead>\n",
       "  <tbody>\n",
       "    <tr>\n",
       "      <th>count</th>\n",
       "      <td>838.000000</td>\n",
       "      <td>838.000000</td>\n",
       "      <td>838.000000</td>\n",
       "      <td>838.000000</td>\n",
       "      <td>838.000000</td>\n",
       "      <td>838.000000</td>\n",
       "      <td>838.000000</td>\n",
       "      <td>838.000000</td>\n",
       "      <td>838.000000</td>\n",
       "    </tr>\n",
       "    <tr>\n",
       "      <th>mean</th>\n",
       "      <td>2.391408</td>\n",
       "      <td>0.334129</td>\n",
       "      <td>-0.010793</td>\n",
       "      <td>0.091885</td>\n",
       "      <td>0.739857</td>\n",
       "      <td>0.192124</td>\n",
       "      <td>22.411942</td>\n",
       "      <td>29.221062</td>\n",
       "      <td>0.361575</td>\n",
       "    </tr>\n",
       "    <tr>\n",
       "      <th>std</th>\n",
       "      <td>0.792451</td>\n",
       "      <td>0.471967</td>\n",
       "      <td>0.995352</td>\n",
       "      <td>0.289037</td>\n",
       "      <td>0.438975</td>\n",
       "      <td>0.394205</td>\n",
       "      <td>20.827218</td>\n",
       "      <td>12.959185</td>\n",
       "      <td>0.480744</td>\n",
       "    </tr>\n",
       "    <tr>\n",
       "      <th>min</th>\n",
       "      <td>1.000000</td>\n",
       "      <td>0.000000</td>\n",
       "      <td>-2.222908</td>\n",
       "      <td>0.000000</td>\n",
       "      <td>0.000000</td>\n",
       "      <td>0.000000</td>\n",
       "      <td>0.000000</td>\n",
       "      <td>0.420000</td>\n",
       "      <td>0.000000</td>\n",
       "    </tr>\n",
       "    <tr>\n",
       "      <th>25%</th>\n",
       "      <td>2.000000</td>\n",
       "      <td>0.000000</td>\n",
       "      <td>-0.565419</td>\n",
       "      <td>0.000000</td>\n",
       "      <td>0.000000</td>\n",
       "      <td>0.000000</td>\n",
       "      <td>7.895800</td>\n",
       "      <td>22.000000</td>\n",
       "      <td>0.000000</td>\n",
       "    </tr>\n",
       "    <tr>\n",
       "      <th>50%</th>\n",
       "      <td>3.000000</td>\n",
       "      <td>0.000000</td>\n",
       "      <td>-0.104579</td>\n",
       "      <td>0.000000</td>\n",
       "      <td>1.000000</td>\n",
       "      <td>0.000000</td>\n",
       "      <td>13.000000</td>\n",
       "      <td>28.000000</td>\n",
       "      <td>0.000000</td>\n",
       "    </tr>\n",
       "    <tr>\n",
       "      <th>75%</th>\n",
       "      <td>3.000000</td>\n",
       "      <td>1.000000</td>\n",
       "      <td>0.433068</td>\n",
       "      <td>0.000000</td>\n",
       "      <td>1.000000</td>\n",
       "      <td>0.000000</td>\n",
       "      <td>27.720800</td>\n",
       "      <td>35.000000</td>\n",
       "      <td>1.000000</td>\n",
       "    </tr>\n",
       "    <tr>\n",
       "      <th>max</th>\n",
       "      <td>3.000000</td>\n",
       "      <td>1.000000</td>\n",
       "      <td>3.889370</td>\n",
       "      <td>1.000000</td>\n",
       "      <td>1.000000</td>\n",
       "      <td>1.000000</td>\n",
       "      <td>93.500000</td>\n",
       "      <td>80.000000</td>\n",
       "      <td>1.000000</td>\n",
       "    </tr>\n",
       "  </tbody>\n",
       "</table>\n",
       "</div>"
      ],
      "text/plain": [
       "           Pclass   Sex_value  Age_fixed_normal      Embk_Q      Embk_S  \\\n",
       "count  838.000000  838.000000        838.000000  838.000000  838.000000   \n",
       "mean     2.391408    0.334129         -0.010793    0.091885    0.739857   \n",
       "std      0.792451    0.471967          0.995352    0.289037    0.438975   \n",
       "min      1.000000    0.000000         -2.222908    0.000000    0.000000   \n",
       "25%      2.000000    0.000000         -0.565419    0.000000    0.000000   \n",
       "50%      3.000000    0.000000         -0.104579    0.000000    1.000000   \n",
       "75%      3.000000    1.000000          0.433068    0.000000    1.000000   \n",
       "max      3.000000    1.000000          3.889370    1.000000    1.000000   \n",
       "\n",
       "        Has_cabin        Fare   Age_fixed    Survived  \n",
       "count  838.000000  838.000000  838.000000  838.000000  \n",
       "mean     0.192124   22.411942   29.221062    0.361575  \n",
       "std      0.394205   20.827218   12.959185    0.480744  \n",
       "min      0.000000    0.000000    0.420000    0.000000  \n",
       "25%      0.000000    7.895800   22.000000    0.000000  \n",
       "50%      0.000000   13.000000   28.000000    0.000000  \n",
       "75%      0.000000   27.720800   35.000000    1.000000  \n",
       "max      1.000000   93.500000   80.000000    1.000000  "
      ]
     },
     "execution_count": 94,
     "metadata": {},
     "output_type": "execute_result"
    }
   ],
   "source": [
    "# Descriptive stats about cluster 0\n",
    "data[data[0] == 0][features_to_describe].describe()"
   ]
  },
  {
   "cell_type": "code",
   "execution_count": 95,
   "metadata": {},
   "outputs": [
    {
     "data": {
      "text/html": [
       "<div>\n",
       "<style>\n",
       "    .dataframe thead tr:only-child th {\n",
       "        text-align: right;\n",
       "    }\n",
       "\n",
       "    .dataframe thead th {\n",
       "        text-align: left;\n",
       "    }\n",
       "\n",
       "    .dataframe tbody tr th {\n",
       "        vertical-align: top;\n",
       "    }\n",
       "</style>\n",
       "<table border=\"1\" class=\"dataframe\">\n",
       "  <thead>\n",
       "    <tr style=\"text-align: right;\">\n",
       "      <th></th>\n",
       "      <th>Pclass</th>\n",
       "      <th>Sex_value</th>\n",
       "      <th>Age_fixed_normal</th>\n",
       "      <th>Embk_Q</th>\n",
       "      <th>Embk_S</th>\n",
       "      <th>Has_cabin</th>\n",
       "      <th>Fare</th>\n",
       "      <th>Age_fixed</th>\n",
       "      <th>Survived</th>\n",
       "    </tr>\n",
       "  </thead>\n",
       "  <tbody>\n",
       "    <tr>\n",
       "      <th>count</th>\n",
       "      <td>53.0</td>\n",
       "      <td>53.000000</td>\n",
       "      <td>53.000000</td>\n",
       "      <td>53.0</td>\n",
       "      <td>53.000000</td>\n",
       "      <td>53.000000</td>\n",
       "      <td>53.000000</td>\n",
       "      <td>53.000000</td>\n",
       "      <td>53.000000</td>\n",
       "    </tr>\n",
       "    <tr>\n",
       "      <th>mean</th>\n",
       "      <td>1.0</td>\n",
       "      <td>0.641509</td>\n",
       "      <td>0.170650</td>\n",
       "      <td>0.0</td>\n",
       "      <td>0.452830</td>\n",
       "      <td>0.811321</td>\n",
       "      <td>187.032858</td>\n",
       "      <td>31.583396</td>\n",
       "      <td>0.735849</td>\n",
       "    </tr>\n",
       "    <tr>\n",
       "      <th>std</th>\n",
       "      <td>0.0</td>\n",
       "      <td>0.484146</td>\n",
       "      <td>1.066276</td>\n",
       "      <td>0.0</td>\n",
       "      <td>0.502533</td>\n",
       "      <td>0.394998</td>\n",
       "      <td>96.462925</td>\n",
       "      <td>13.882590</td>\n",
       "      <td>0.445099</td>\n",
       "    </tr>\n",
       "    <tr>\n",
       "      <th>min</th>\n",
       "      <td>1.0</td>\n",
       "      <td>0.000000</td>\n",
       "      <td>-2.184504</td>\n",
       "      <td>0.0</td>\n",
       "      <td>0.000000</td>\n",
       "      <td>0.000000</td>\n",
       "      <td>106.425000</td>\n",
       "      <td>0.920000</td>\n",
       "      <td>0.000000</td>\n",
       "    </tr>\n",
       "    <tr>\n",
       "      <th>25%</th>\n",
       "      <td>1.0</td>\n",
       "      <td>0.000000</td>\n",
       "      <td>-0.565419</td>\n",
       "      <td>0.0</td>\n",
       "      <td>0.000000</td>\n",
       "      <td>1.000000</td>\n",
       "      <td>120.000000</td>\n",
       "      <td>22.000000</td>\n",
       "      <td>0.000000</td>\n",
       "    </tr>\n",
       "    <tr>\n",
       "      <th>50%</th>\n",
       "      <td>1.0</td>\n",
       "      <td>1.000000</td>\n",
       "      <td>0.049035</td>\n",
       "      <td>0.0</td>\n",
       "      <td>0.000000</td>\n",
       "      <td>1.000000</td>\n",
       "      <td>151.550000</td>\n",
       "      <td>30.000000</td>\n",
       "      <td>1.000000</td>\n",
       "    </tr>\n",
       "    <tr>\n",
       "      <th>75%</th>\n",
       "      <td>1.0</td>\n",
       "      <td>1.000000</td>\n",
       "      <td>0.817102</td>\n",
       "      <td>0.0</td>\n",
       "      <td>1.000000</td>\n",
       "      <td>1.000000</td>\n",
       "      <td>227.525000</td>\n",
       "      <td>40.000000</td>\n",
       "      <td>1.000000</td>\n",
       "    </tr>\n",
       "    <tr>\n",
       "      <th>max</th>\n",
       "      <td>1.0</td>\n",
       "      <td>1.000000</td>\n",
       "      <td>2.660463</td>\n",
       "      <td>0.0</td>\n",
       "      <td>1.000000</td>\n",
       "      <td>1.000000</td>\n",
       "      <td>512.329200</td>\n",
       "      <td>64.000000</td>\n",
       "      <td>1.000000</td>\n",
       "    </tr>\n",
       "  </tbody>\n",
       "</table>\n",
       "</div>"
      ],
      "text/plain": [
       "       Pclass  Sex_value  Age_fixed_normal  Embk_Q     Embk_S  Has_cabin  \\\n",
       "count    53.0  53.000000         53.000000    53.0  53.000000  53.000000   \n",
       "mean      1.0   0.641509          0.170650     0.0   0.452830   0.811321   \n",
       "std       0.0   0.484146          1.066276     0.0   0.502533   0.394998   \n",
       "min       1.0   0.000000         -2.184504     0.0   0.000000   0.000000   \n",
       "25%       1.0   0.000000         -0.565419     0.0   0.000000   1.000000   \n",
       "50%       1.0   1.000000          0.049035     0.0   0.000000   1.000000   \n",
       "75%       1.0   1.000000          0.817102     0.0   1.000000   1.000000   \n",
       "max       1.0   1.000000          2.660463     0.0   1.000000   1.000000   \n",
       "\n",
       "             Fare  Age_fixed   Survived  \n",
       "count   53.000000  53.000000  53.000000  \n",
       "mean   187.032858  31.583396   0.735849  \n",
       "std     96.462925  13.882590   0.445099  \n",
       "min    106.425000   0.920000   0.000000  \n",
       "25%    120.000000  22.000000   0.000000  \n",
       "50%    151.550000  30.000000   1.000000  \n",
       "75%    227.525000  40.000000   1.000000  \n",
       "max    512.329200  64.000000   1.000000  "
      ]
     },
     "execution_count": 95,
     "metadata": {},
     "output_type": "execute_result"
    }
   ],
   "source": [
    "# Descriptive stats about cluster 1\n",
    "data[data[0] == 1][features_to_describe].describe()"
   ]
  },
  {
   "cell_type": "code",
   "execution_count": null,
   "metadata": {
    "collapsed": true
   },
   "outputs": [],
   "source": []
  }
 ],
 "metadata": {
  "kernelspec": {
   "display_name": "Python 2",
   "language": "python",
   "name": "python2"
  },
  "language_info": {
   "codemirror_mode": {
    "name": "ipython",
    "version": 2
   },
   "file_extension": ".py",
   "mimetype": "text/x-python",
   "name": "python",
   "nbconvert_exporter": "python",
   "pygments_lexer": "ipython2",
   "version": "2.7.13"
  }
 },
 "nbformat": 4,
 "nbformat_minor": 2
}
