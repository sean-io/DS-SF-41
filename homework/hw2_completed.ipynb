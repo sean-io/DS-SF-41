{
 "cells": [
  {
   "cell_type": "markdown",
   "metadata": {},
   "source": [
    "# Homework Assignment 2"
   ]
  },
  {
   "cell_type": "markdown",
   "metadata": {},
   "source": [
    "## Section 1: Admissions Dataset"
   ]
  },
  {
   "cell_type": "code",
   "execution_count": 35,
   "metadata": {
    "collapsed": true
   },
   "outputs": [],
   "source": [
    "import pandas as pd\n",
    "import numpy as np\n",
    "\n",
    "import seaborn as sns\n",
    "import matplotlib.pyplot as plt\n",
    "%matplotlib inline"
   ]
  },
  {
   "cell_type": "code",
   "execution_count": 36,
   "metadata": {},
   "outputs": [
    {
     "data": {
      "text/html": [
       "<div>\n",
       "<style>\n",
       "    .dataframe thead tr:only-child th {\n",
       "        text-align: right;\n",
       "    }\n",
       "\n",
       "    .dataframe thead th {\n",
       "        text-align: left;\n",
       "    }\n",
       "\n",
       "    .dataframe tbody tr th {\n",
       "        vertical-align: top;\n",
       "    }\n",
       "</style>\n",
       "<table border=\"1\" class=\"dataframe\">\n",
       "  <thead>\n",
       "    <tr style=\"text-align: right;\">\n",
       "      <th></th>\n",
       "      <th>admit</th>\n",
       "      <th>gre</th>\n",
       "      <th>gpa</th>\n",
       "      <th>prestige</th>\n",
       "    </tr>\n",
       "  </thead>\n",
       "  <tbody>\n",
       "    <tr>\n",
       "      <th>0</th>\n",
       "      <td>0</td>\n",
       "      <td>380.0</td>\n",
       "      <td>3.61</td>\n",
       "      <td>3.0</td>\n",
       "    </tr>\n",
       "    <tr>\n",
       "      <th>1</th>\n",
       "      <td>1</td>\n",
       "      <td>660.0</td>\n",
       "      <td>3.67</td>\n",
       "      <td>3.0</td>\n",
       "    </tr>\n",
       "    <tr>\n",
       "      <th>2</th>\n",
       "      <td>1</td>\n",
       "      <td>800.0</td>\n",
       "      <td>4.00</td>\n",
       "      <td>1.0</td>\n",
       "    </tr>\n",
       "    <tr>\n",
       "      <th>3</th>\n",
       "      <td>1</td>\n",
       "      <td>640.0</td>\n",
       "      <td>3.19</td>\n",
       "      <td>4.0</td>\n",
       "    </tr>\n",
       "    <tr>\n",
       "      <th>4</th>\n",
       "      <td>0</td>\n",
       "      <td>520.0</td>\n",
       "      <td>2.93</td>\n",
       "      <td>4.0</td>\n",
       "    </tr>\n",
       "  </tbody>\n",
       "</table>\n",
       "</div>"
      ],
      "text/plain": [
       "   admit    gre   gpa  prestige\n",
       "0      0  380.0  3.61       3.0\n",
       "1      1  660.0  3.67       3.0\n",
       "2      1  800.0  4.00       1.0\n",
       "3      1  640.0  3.19       4.0\n",
       "4      0  520.0  2.93       4.0"
      ]
     },
     "execution_count": 36,
     "metadata": {},
     "output_type": "execute_result"
    }
   ],
   "source": [
    "admissions = pd.read_csv('../data/dataset-ucla-admissions.csv')\n",
    "admissions.head()"
   ]
  },
  {
   "cell_type": "markdown",
   "metadata": {},
   "source": [
    ">**Question 1:**\n",
    "\n",
    ">What is the target / outcome variable? What are the features? Which features are continous or categorical? What is the null accuracy? If there are categorical variables, turn them into dummy variables."
   ]
  },
  {
   "cell_type": "markdown",
   "metadata": {
    "collapsed": true
   },
   "source": [
    "**Target:** admit    **Features:** gre (continuous), gpa (continuous), prestige (categorical)"
   ]
  },
  {
   "cell_type": "code",
   "execution_count": 37,
   "metadata": {},
   "outputs": [
    {
     "data": {
      "text/plain": [
       "2.0    150\n",
       "3.0    121\n",
       "4.0     67\n",
       "1.0     61\n",
       "Name: prestige, dtype: int64"
      ]
     },
     "execution_count": 37,
     "metadata": {},
     "output_type": "execute_result"
    }
   ],
   "source": [
    "admissions['prestige'].value_counts()"
   ]
  },
  {
   "cell_type": "code",
   "execution_count": 38,
   "metadata": {},
   "outputs": [
    {
     "data": {
      "text/plain": [
       "0.6825"
      ]
     },
     "execution_count": 38,
     "metadata": {},
     "output_type": "execute_result"
    }
   ],
   "source": [
    "#Null Accuracy\n",
    "max(admissions['admit'].mean(), 1 - admissions['admit'].mean())"
   ]
  },
  {
   "cell_type": "code",
   "execution_count": 39,
   "metadata": {},
   "outputs": [
    {
     "data": {
      "text/html": [
       "<div>\n",
       "<style>\n",
       "    .dataframe thead tr:only-child th {\n",
       "        text-align: right;\n",
       "    }\n",
       "\n",
       "    .dataframe thead th {\n",
       "        text-align: left;\n",
       "    }\n",
       "\n",
       "    .dataframe tbody tr th {\n",
       "        vertical-align: top;\n",
       "    }\n",
       "</style>\n",
       "<table border=\"1\" class=\"dataframe\">\n",
       "  <thead>\n",
       "    <tr style=\"text-align: right;\">\n",
       "      <th></th>\n",
       "      <th>admit</th>\n",
       "      <th>gre</th>\n",
       "      <th>gpa</th>\n",
       "      <th>1.0</th>\n",
       "      <th>2.0</th>\n",
       "      <th>3.0</th>\n",
       "      <th>4.0</th>\n",
       "    </tr>\n",
       "  </thead>\n",
       "  <tbody>\n",
       "    <tr>\n",
       "      <th>0</th>\n",
       "      <td>0</td>\n",
       "      <td>380.0</td>\n",
       "      <td>3.61</td>\n",
       "      <td>0</td>\n",
       "      <td>0</td>\n",
       "      <td>1</td>\n",
       "      <td>0</td>\n",
       "    </tr>\n",
       "    <tr>\n",
       "      <th>1</th>\n",
       "      <td>1</td>\n",
       "      <td>660.0</td>\n",
       "      <td>3.67</td>\n",
       "      <td>0</td>\n",
       "      <td>0</td>\n",
       "      <td>1</td>\n",
       "      <td>0</td>\n",
       "    </tr>\n",
       "    <tr>\n",
       "      <th>2</th>\n",
       "      <td>1</td>\n",
       "      <td>800.0</td>\n",
       "      <td>4.00</td>\n",
       "      <td>1</td>\n",
       "      <td>0</td>\n",
       "      <td>0</td>\n",
       "      <td>0</td>\n",
       "    </tr>\n",
       "    <tr>\n",
       "      <th>3</th>\n",
       "      <td>1</td>\n",
       "      <td>640.0</td>\n",
       "      <td>3.19</td>\n",
       "      <td>0</td>\n",
       "      <td>0</td>\n",
       "      <td>0</td>\n",
       "      <td>1</td>\n",
       "    </tr>\n",
       "    <tr>\n",
       "      <th>4</th>\n",
       "      <td>0</td>\n",
       "      <td>520.0</td>\n",
       "      <td>2.93</td>\n",
       "      <td>0</td>\n",
       "      <td>0</td>\n",
       "      <td>0</td>\n",
       "      <td>1</td>\n",
       "    </tr>\n",
       "  </tbody>\n",
       "</table>\n",
       "</div>"
      ],
      "text/plain": [
       "   admit    gre   gpa  1.0  2.0  3.0  4.0\n",
       "0      0  380.0  3.61    0    0    1    0\n",
       "1      1  660.0  3.67    0    0    1    0\n",
       "2      1  800.0  4.00    1    0    0    0\n",
       "3      1  640.0  3.19    0    0    0    1\n",
       "4      0  520.0  2.93    0    0    0    1"
      ]
     },
     "execution_count": 39,
     "metadata": {},
     "output_type": "execute_result"
    }
   ],
   "source": [
    "#Convert 'prestige' column to dummy variables\n",
    "prestige_dummies = pd.get_dummies(admissions['prestige'])\n",
    "admissions = admissions.drop('prestige', axis=1)\n",
    "admissions = pd.concat([admissions,prestige_dummies],axis=1)\n",
    "admissions.head()"
   ]
  },
  {
   "cell_type": "code",
   "execution_count": 40,
   "metadata": {},
   "outputs": [
    {
     "name": "stdout",
     "output_type": "stream",
     "text": [
      "<class 'pandas.core.frame.DataFrame'>\n",
      "RangeIndex: 400 entries, 0 to 399\n",
      "Data columns (total 7 columns):\n",
      "admit    400 non-null int64\n",
      "gre      398 non-null float64\n",
      "gpa      398 non-null float64\n",
      "1.0      400 non-null uint8\n",
      "2.0      400 non-null uint8\n",
      "3.0      400 non-null uint8\n",
      "4.0      400 non-null uint8\n",
      "dtypes: float64(2), int64(1), uint8(4)\n",
      "memory usage: 11.0 KB\n"
     ]
    }
   ],
   "source": [
    "admissions.info()"
   ]
  },
  {
   "cell_type": "code",
   "execution_count": 41,
   "metadata": {
    "collapsed": true
   },
   "outputs": [],
   "source": [
    "# Update column headings to strings\n",
    "\n",
    "admissions.rename(columns={1.0: 'pres_1', 2.0: 'pres_2', 3.0: 'pres_3', 4.0: 'pres_4'}, inplace=True)"
   ]
  },
  {
   "cell_type": "code",
   "execution_count": 42,
   "metadata": {},
   "outputs": [
    {
     "name": "stdout",
     "output_type": "stream",
     "text": [
      "<class 'pandas.core.frame.DataFrame'>\n",
      "RangeIndex: 400 entries, 0 to 399\n",
      "Data columns (total 7 columns):\n",
      "admit     400 non-null int64\n",
      "gre       398 non-null float64\n",
      "gpa       398 non-null float64\n",
      "pres_1    400 non-null uint8\n",
      "pres_2    400 non-null uint8\n",
      "pres_3    400 non-null uint8\n",
      "pres_4    400 non-null uint8\n",
      "dtypes: float64(2), int64(1), uint8(4)\n",
      "memory usage: 11.0 KB\n"
     ]
    }
   ],
   "source": [
    "admissions.info()"
   ]
  },
  {
   "cell_type": "code",
   "execution_count": 43,
   "metadata": {
    "collapsed": true
   },
   "outputs": [],
   "source": [
    "# Impute null values with mean\n",
    "\n",
    "admissions = admissions.apply(lambda x: x.fillna(x.mean()),axis=0)"
   ]
  },
  {
   "cell_type": "code",
   "execution_count": 44,
   "metadata": {},
   "outputs": [
    {
     "data": {
      "text/html": [
       "<div>\n",
       "<style>\n",
       "    .dataframe thead tr:only-child th {\n",
       "        text-align: right;\n",
       "    }\n",
       "\n",
       "    .dataframe thead th {\n",
       "        text-align: left;\n",
       "    }\n",
       "\n",
       "    .dataframe tbody tr th {\n",
       "        vertical-align: top;\n",
       "    }\n",
       "</style>\n",
       "<table border=\"1\" class=\"dataframe\">\n",
       "  <thead>\n",
       "    <tr style=\"text-align: right;\">\n",
       "      <th></th>\n",
       "      <th>admit</th>\n",
       "      <th>gre</th>\n",
       "      <th>gpa</th>\n",
       "      <th>pres_1</th>\n",
       "      <th>pres_2</th>\n",
       "      <th>pres_3</th>\n",
       "      <th>pres_4</th>\n",
       "    </tr>\n",
       "  </thead>\n",
       "  <tbody>\n",
       "  </tbody>\n",
       "</table>\n",
       "</div>"
      ],
      "text/plain": [
       "Empty DataFrame\n",
       "Columns: [admit, gre, gpa, pres_1, pres_2, pres_3, pres_4]\n",
       "Index: []"
      ]
     },
     "execution_count": 44,
     "metadata": {},
     "output_type": "execute_result"
    }
   ],
   "source": [
    "# Confirm no null values remain\n",
    "\n",
    "admissions[admissions.isnull().any(axis=1)]"
   ]
  },
  {
   "cell_type": "markdown",
   "metadata": {},
   "source": [
    ">**Question 2:**\n",
    "\n",
    ">What do you think is the goal of using machine learning with this dataset?"
   ]
  },
  {
   "cell_type": "markdown",
   "metadata": {
    "collapsed": true
   },
   "source": [
    "_In the case of UCLA, the goal would likely be to be to identify **unqualified** potential students that were flagged to be admitted by system. In other words, **reducing false positives or boosting accuracy**._"
   ]
  },
  {
   "cell_type": "markdown",
   "metadata": {},
   "source": [
    ">**Question 3:** \n",
    "\n",
    ">Make a scatter plot of gpa vs gre, color-encoded using the admit feature. What does this graph tell you?"
   ]
  },
  {
   "cell_type": "code",
   "execution_count": 45,
   "metadata": {},
   "outputs": [
    {
     "data": {
      "image/png": "[encoded data removed]",
      "text/plain": [
       "<matplotlib.figure.Figure at 0xc0327f0>"
      ]
     },
     "metadata": {},
     "output_type": "display_data"
    }
   ],
   "source": [
    "plt.figure(figsize=(8,6))\n",
    "colors = admissions.admit.map({1: 'c', 0: 'grey'})\n",
    "plt.scatter('gpa','gre', data=admissions, c=colors, alpha=0.8)\n",
    "plt.xlabel('gpa', fontsize=12)\n",
    "plt.ylabel('gre', fontsize=12)\n",
    "plt.title('Blue plots indicates student was admitted')\n",
    "#plt.legend() Not quite sure how to generate the legend not using the ax method\n",
    "plt.show()"
   ]
  },
  {
   "cell_type": "markdown",
   "metadata": {},
   "source": [
    ">**Question 4:** \n",
    "\n",
    ">1. Split the data between a train and test set, with 25% of the data for testing.\n",
    ">2. Fit a Logistic Regression model on the training data.\n",
    ">3. Evaluate the model on both the training and testing datasets using the area under the ROC curve.\n",
    ">4. What's the difference in the AUC score of the training and testing datasets? Is this evidence of overfitting?"
   ]
  },
  {
   "cell_type": "code",
   "execution_count": 46,
   "metadata": {},
   "outputs": [],
   "source": [
    "# 1. split data into training and testing sets, with 25% for testing\n",
    "\n",
    "from sklearn.cross_validation import train_test_split\n",
    "\n",
    "X = admissions[['gre','gpa','pres_1','pres_2','pres_3','pres_4']]\n",
    "y = admissions['admit']\n",
    "\n",
    "X_train, X_test, y_train, y_test = train_test_split(X, y, test_size=0.25, random_state=0)"
   ]
  },
  {
   "cell_type": "code",
   "execution_count": 47,
   "metadata": {},
   "outputs": [
    {
     "data": {
      "text/plain": [
       "LogisticRegression(C=1.0, class_weight=None, dual=False, fit_intercept=True,\n",
       "          intercept_scaling=1, max_iter=100, multi_class='ovr', n_jobs=1,\n",
       "          penalty='l2', random_state=None, solver='liblinear', tol=0.0001,\n",
       "          verbose=0, warm_start=False)"
      ]
     },
     "execution_count": 47,
     "metadata": {},
     "output_type": "execute_result"
    }
   ],
   "source": [
    "# 2. Fit a Logistic Regression model on the training data.\n",
    "\n",
    "from sklearn.linear_model import LogisticRegression\n",
    "\n",
    "lr = LogisticRegression()\n",
    "lr.fit(X_train,y_train)"
   ]
  },
  {
   "cell_type": "code",
   "execution_count": 48,
   "metadata": {
    "scrolled": true
   },
   "outputs": [
    {
     "data": {
      "text/plain": [
       "Text(0.5,1,u'ROC Curve using Training dataset')"
      ]
     },
     "execution_count": 48,
     "metadata": {},
     "output_type": "execute_result"
    },
    {
     "data": {
      "image/png": "[encoded data removed]",
      "text/plain": [
       "<matplotlib.figure.Figure at 0xbf2a9e8>"
      ]
     },
     "metadata": {},
     "output_type": "display_data"
    }
   ],
   "source": [
    "# 3. Evaluate the model on both the training and testing datasets using the area under the ROC curve.\n",
    "\n",
    "from sklearn.metrics import roc_auc_score, roc_curve\n",
    "\n",
    "# Training set\n",
    "y_prob = lr.predict_proba(X_train)[:,1]\n",
    "false_positive_rate, true_positive_rate, threshold = roc_curve(y_train, y_prob)\n",
    "\n",
    "# Plot ROC curve\n",
    "plt.figure(figsize=(10,8))\n",
    "plt.plot(false_positive_rate, true_positive_rate)\n",
    "plt.plot([0, 1], ls='--')\n",
    "plt.ylabel('True Positive Rate')\n",
    "plt.xlabel('False Positive Rate')\n",
    "plt.title('ROC Curve using Training dataset')"
   ]
  },
  {
   "cell_type": "code",
   "execution_count": 49,
   "metadata": {},
   "outputs": [
    {
     "data": {
      "text/plain": [
       "Text(0.5,1,u'ROC Curve using Test dataset')"
      ]
     },
     "execution_count": 49,
     "metadata": {},
     "output_type": "execute_result"
    },
    {
     "data": {
      "image/png": "[encoded data removed]",
      "text/plain": [
       "<matplotlib.figure.Figure at 0xbe34d68>"
      ]
     },
     "metadata": {},
     "output_type": "display_data"
    }
   ],
   "source": [
    "# Test set\n",
    "y_prob = lr.predict_proba(X_test)[:,1]\n",
    "false_positive_rate, true_positive_rate, threshold = roc_curve(y_test, y_prob)\n",
    "\n",
    "# Plot ROC curve\n",
    "plt.figure(figsize=(10,8))\n",
    "plt.plot(false_positive_rate, true_positive_rate)\n",
    "plt.plot([0, 1], ls='--')\n",
    "plt.ylabel('True Positive Rate')\n",
    "plt.xlabel('False Positive Rate')\n",
    "plt.title('ROC Curve using Test dataset')"
   ]
  },
  {
   "cell_type": "code",
   "execution_count": 50,
   "metadata": {},
   "outputs": [
    {
     "name": "stdout",
     "output_type": "stream",
     "text": [
      "Training ROC AUC Score: 0.672523109943\n",
      "Test ROC AUC Score: 0.613186813187\n"
     ]
    }
   ],
   "source": [
    "from sklearn.model_selection import cross_val_score\n",
    "\n",
    "print 'Training ROC AUC Score:', cross_val_score(lr, X_train, y_train, scoring='roc_auc', cv=5).mean()\n",
    "print 'Test ROC AUC Score:', cross_val_score(lr, X_test, y_test, scoring='roc_auc', cv=5).mean()"
   ]
  },
  {
   "cell_type": "markdown",
   "metadata": {},
   "source": [
    "4. What's the difference in the AUC score of the training and testing datasets? Is this evidence of overfitting?\n",
    "\n",
    "The model AUC score was 6% lower using the test data. This difference seems resonable to not indicate overfitting."
   ]
  },
  {
   "cell_type": "markdown",
   "metadata": {},
   "source": [
    ">**Question 5:** \n",
    "\n",
    ">Build a KNN model and a Random Forest model trained on this dataset. What's the cross validation score for each? Use roc_auc as your evaluation metric."
   ]
  },
  {
   "cell_type": "code",
   "execution_count": 51,
   "metadata": {},
   "outputs": [
    {
     "name": "stdout",
     "output_type": "stream",
     "text": [
      "66.7032967033\n"
     ]
    }
   ],
   "source": [
    "# KNN model\n",
    "\n",
    "from sklearn import neighbors\n",
    "\n",
    "cls = neighbors.KNeighborsClassifier(n_neighbors=2, weights='uniform')\n",
    "cls.fit(X_train, y_train)\n",
    "\n",
    "print(cross_val_score(cls, X_test, y_test, scoring='roc_auc', cv=5).mean() * 100)"
   ]
  },
  {
   "cell_type": "code",
   "execution_count": 52,
   "metadata": {},
   "outputs": [
    {
     "name": "stdout",
     "output_type": "stream",
     "text": [
      "64.2857142857\n"
     ]
    }
   ],
   "source": [
    "#Apply RFC\n",
    "\n",
    "from sklearn import ensemble\n",
    "\n",
    "rfc = ensemble.RandomForestClassifier(n_estimators=50)\n",
    "rfc.fit(X_train, y_train)\n",
    "\n",
    "print(cross_val_score(rfc, X_test, y_test, scoring='roc_auc', cv=5).mean() * 100)"
   ]
  },
  {
   "cell_type": "markdown",
   "metadata": {},
   "source": [
    "KNN is the higher performing model with a 66.7% cross val score, followed by RFC with 65.6%, then Logistic with 61.3% "
   ]
  },
  {
   "cell_type": "markdown",
   "metadata": {},
   "source": [
    ">**Question 6:** \n",
    "\n",
    "> What do false positives and false negatives represent in the context of this model? If you work in an admissions department, would you rather have a model that minimizes false negatives or minimizes false positives? Why?"
   ]
  },
  {
   "cell_type": "markdown",
   "metadata": {
    "collapsed": true
   },
   "source": [
    "False positives represent a student that was predicted to be admitted but was not. In the case of UCLA's admission department, it is likely more concerned with minimizing false positives, since it likely uses such a system to reduce the number of\n",
    "applications it manually reviews to make admission decisions for."
   ]
  },
  {
   "cell_type": "markdown",
   "metadata": {},
   "source": [
    ">**Question 7:** \n",
    "\n",
    ">Using the Logistic Regression model from Question 4, what is the probability of admission of the following prospective students:\n",
    "\n",
    ">- Student 1: $GRE = 560$, $GPA = 3.6$, $Prestige = 2$\n",
    ">- Student 2: $GRE = 750$, $GPA = 3.8$, $Prestige = 4$\n",
    ">- Student 3: $GRE = 660$, $GPA = 3.1$, $Prestige = 1$"
   ]
  },
  {
   "cell_type": "code",
   "execution_count": 53,
   "metadata": {},
   "outputs": [
    {
     "data": {
      "text/html": [
       "<div>\n",
       "<style>\n",
       "    .dataframe thead tr:only-child th {\n",
       "        text-align: right;\n",
       "    }\n",
       "\n",
       "    .dataframe thead th {\n",
       "        text-align: left;\n",
       "    }\n",
       "\n",
       "    .dataframe tbody tr th {\n",
       "        vertical-align: top;\n",
       "    }\n",
       "</style>\n",
       "<table border=\"1\" class=\"dataframe\">\n",
       "  <thead>\n",
       "    <tr style=\"text-align: right;\">\n",
       "      <th></th>\n",
       "      <th>gpa</th>\n",
       "      <th>gre</th>\n",
       "      <th>pres_1</th>\n",
       "      <th>pres_2</th>\n",
       "      <th>pres_3</th>\n",
       "      <th>pres_4</th>\n",
       "      <th>student</th>\n",
       "    </tr>\n",
       "  </thead>\n",
       "  <tbody>\n",
       "    <tr>\n",
       "      <th>0</th>\n",
       "      <td>3.6</td>\n",
       "      <td>560</td>\n",
       "      <td>0</td>\n",
       "      <td>1</td>\n",
       "      <td>0</td>\n",
       "      <td>0</td>\n",
       "      <td>1</td>\n",
       "    </tr>\n",
       "    <tr>\n",
       "      <th>1</th>\n",
       "      <td>3.8</td>\n",
       "      <td>750</td>\n",
       "      <td>0</td>\n",
       "      <td>0</td>\n",
       "      <td>0</td>\n",
       "      <td>1</td>\n",
       "      <td>2</td>\n",
       "    </tr>\n",
       "    <tr>\n",
       "      <th>2</th>\n",
       "      <td>3.1</td>\n",
       "      <td>660</td>\n",
       "      <td>1</td>\n",
       "      <td>0</td>\n",
       "      <td>0</td>\n",
       "      <td>0</td>\n",
       "      <td>3</td>\n",
       "    </tr>\n",
       "  </tbody>\n",
       "</table>\n",
       "</div>"
      ],
      "text/plain": [
       "   gpa  gre  pres_1  pres_2  pres_3  pres_4 student\n",
       "0  3.6  560       0       1       0       0       1\n",
       "1  3.8  750       0       0       0       1       2\n",
       "2  3.1  660       1       0       0       0       3"
      ]
     },
     "execution_count": 53,
     "metadata": {},
     "output_type": "execute_result"
    }
   ],
   "source": [
    "# Create a new df for these records\n",
    "admissions_test_df = pd.DataFrame({'student': ['1','2','3'], 'gre': [560, 750, 660], 'gpa': [3.6, 3.8, 3.1], 'pres_1': [0,0,1],\n",
    "                                   'pres_2': [1,0,0], 'pres_3': [0,0,0], 'pres_4': [0,1,0]})\n",
    "admissions_test_df.head()"
   ]
  },
  {
   "cell_type": "code",
   "execution_count": 54,
   "metadata": {},
   "outputs": [
    {
     "data": {
      "text/plain": [
       "array([ 0.36291325,  0.20236469,  0.51535215])"
      ]
     },
     "execution_count": 54,
     "metadata": {},
     "output_type": "execute_result"
    }
   ],
   "source": [
    "X = admissions_test_df[['gre','gpa','pres_1','pres_2','pres_3','pres_4']]\n",
    "lr.predict_proba(X)[:, 1]"
   ]
  },
  {
   "cell_type": "markdown",
   "metadata": {},
   "source": [
    "## Section 2: Mystery Dataset\n",
    "\n",
    "In this section you will work with a \"mystery\" supervised classification dataset meaning that you have no context to work with — the names of the features come from San Francisco neighborhoods but aren't actually related to anything having to do with San Francisco.\n",
    "\n",
    "In this section, we want to devise the best possible model with the fewest number of features. Some of the features are informative, while others are junk. Your task is to find the good ones while dropping the bad ones.\n",
    "\n",
    "I want you to thoroughly test at least three algorithms in order to find the best one with the best parameters."
   ]
  },
  {
   "cell_type": "code",
   "execution_count": 55,
   "metadata": {},
   "outputs": [
    {
     "data": {
      "text/html": [
       "<div>\n",
       "<style>\n",
       "    .dataframe thead tr:only-child th {\n",
       "        text-align: right;\n",
       "    }\n",
       "\n",
       "    .dataframe thead th {\n",
       "        text-align: left;\n",
       "    }\n",
       "\n",
       "    .dataframe tbody tr th {\n",
       "        vertical-align: top;\n",
       "    }\n",
       "</style>\n",
       "<table border=\"1\" class=\"dataframe\">\n",
       "  <thead>\n",
       "    <tr style=\"text-align: right;\">\n",
       "      <th></th>\n",
       "      <th>haight</th>\n",
       "      <th>mission</th>\n",
       "      <th>soma</th>\n",
       "      <th>sunset</th>\n",
       "      <th>richmond</th>\n",
       "      <th>glen_park</th>\n",
       "      <th>castro</th>\n",
       "      <th>potrero</th>\n",
       "      <th>hayes_valley</th>\n",
       "      <th>fillmore</th>\n",
       "      <th>bernal</th>\n",
       "      <th>marina</th>\n",
       "      <th>north_beach</th>\n",
       "      <th>excelsior</th>\n",
       "      <th>target</th>\n",
       "    </tr>\n",
       "  </thead>\n",
       "  <tbody>\n",
       "    <tr>\n",
       "      <th>0</th>\n",
       "      <td>-3.126509</td>\n",
       "      <td>7.807749</td>\n",
       "      <td>0.959736</td>\n",
       "      <td>-2.248569</td>\n",
       "      <td>4.557675</td>\n",
       "      <td>1.110156</td>\n",
       "      <td>0.617296</td>\n",
       "      <td>0.356864</td>\n",
       "      <td>0.860267</td>\n",
       "      <td>-0.395962</td>\n",
       "      <td>-1.144975</td>\n",
       "      <td>-1.805742</td>\n",
       "      <td>1.498388</td>\n",
       "      <td>2.157730</td>\n",
       "      <td>1</td>\n",
       "    </tr>\n",
       "    <tr>\n",
       "      <th>1</th>\n",
       "      <td>0.941629</td>\n",
       "      <td>2.935495</td>\n",
       "      <td>-0.584966</td>\n",
       "      <td>-0.880963</td>\n",
       "      <td>-1.262072</td>\n",
       "      <td>0.120989</td>\n",
       "      <td>3.970787</td>\n",
       "      <td>2.509629</td>\n",
       "      <td>1.400017</td>\n",
       "      <td>0.574335</td>\n",
       "      <td>-3.389879</td>\n",
       "      <td>-0.898020</td>\n",
       "      <td>0.512079</td>\n",
       "      <td>4.340694</td>\n",
       "      <td>1</td>\n",
       "    </tr>\n",
       "    <tr>\n",
       "      <th>2</th>\n",
       "      <td>-0.724688</td>\n",
       "      <td>4.192606</td>\n",
       "      <td>-1.139602</td>\n",
       "      <td>0.856972</td>\n",
       "      <td>0.906893</td>\n",
       "      <td>-2.799484</td>\n",
       "      <td>0.584498</td>\n",
       "      <td>3.468955</td>\n",
       "      <td>1.011336</td>\n",
       "      <td>0.839612</td>\n",
       "      <td>-1.384781</td>\n",
       "      <td>-0.241726</td>\n",
       "      <td>1.502255</td>\n",
       "      <td>-1.539356</td>\n",
       "      <td>1</td>\n",
       "    </tr>\n",
       "    <tr>\n",
       "      <th>3</th>\n",
       "      <td>-2.641034</td>\n",
       "      <td>6.963189</td>\n",
       "      <td>0.962412</td>\n",
       "      <td>-0.838858</td>\n",
       "      <td>1.549620</td>\n",
       "      <td>-2.335671</td>\n",
       "      <td>-0.838585</td>\n",
       "      <td>1.924333</td>\n",
       "      <td>2.794306</td>\n",
       "      <td>-0.421610</td>\n",
       "      <td>-1.273275</td>\n",
       "      <td>0.833424</td>\n",
       "      <td>2.268457</td>\n",
       "      <td>-0.004678</td>\n",
       "      <td>0</td>\n",
       "    </tr>\n",
       "    <tr>\n",
       "      <th>4</th>\n",
       "      <td>1.259116</td>\n",
       "      <td>4.741797</td>\n",
       "      <td>1.084332</td>\n",
       "      <td>0.186698</td>\n",
       "      <td>4.794145</td>\n",
       "      <td>-1.093006</td>\n",
       "      <td>2.161358</td>\n",
       "      <td>3.264167</td>\n",
       "      <td>-0.060052</td>\n",
       "      <td>1.154145</td>\n",
       "      <td>-2.030773</td>\n",
       "      <td>-1.442986</td>\n",
       "      <td>0.588193</td>\n",
       "      <td>0.533464</td>\n",
       "      <td>1</td>\n",
       "    </tr>\n",
       "  </tbody>\n",
       "</table>\n",
       "</div>"
      ],
      "text/plain": [
       "     haight   mission      soma    sunset  richmond  glen_park    castro  \\\n",
       "0 -3.126509  7.807749  0.959736 -2.248569  4.557675   1.110156  0.617296   \n",
       "1  0.941629  2.935495 -0.584966 -0.880963 -1.262072   0.120989  3.970787   \n",
       "2 -0.724688  4.192606 -1.139602  0.856972  0.906893  -2.799484  0.584498   \n",
       "3 -2.641034  6.963189  0.962412 -0.838858  1.549620  -2.335671 -0.838585   \n",
       "4  1.259116  4.741797  1.084332  0.186698  4.794145  -1.093006  2.161358   \n",
       "\n",
       "    potrero  hayes_valley  fillmore    bernal    marina  north_beach  \\\n",
       "0  0.356864      0.860267 -0.395962 -1.144975 -1.805742     1.498388   \n",
       "1  2.509629      1.400017  0.574335 -3.389879 -0.898020     0.512079   \n",
       "2  3.468955      1.011336  0.839612 -1.384781 -0.241726     1.502255   \n",
       "3  1.924333      2.794306 -0.421610 -1.273275  0.833424     2.268457   \n",
       "4  3.264167     -0.060052  1.154145 -2.030773 -1.442986     0.588193   \n",
       "\n",
       "   excelsior  target  \n",
       "0   2.157730       1  \n",
       "1   4.340694       1  \n",
       "2  -1.539356       1  \n",
       "3  -0.004678       0  \n",
       "4   0.533464       1  "
      ]
     },
     "execution_count": 55,
     "metadata": {},
     "output_type": "execute_result"
    }
   ],
   "source": [
    "data = pd.read_csv('../data/homework_2_data.csv', index_col=[0])\n",
    "data.head()"
   ]
  },
  {
   "cell_type": "code",
   "execution_count": 56,
   "metadata": {},
   "outputs": [
    {
     "name": "stdout",
     "output_type": "stream",
     "text": [
      "<class 'pandas.core.frame.DataFrame'>\n",
      "Int64Index: 4000 entries, 0 to 3999\n",
      "Data columns (total 15 columns):\n",
      "haight          4000 non-null float64\n",
      "mission         4000 non-null float64\n",
      "soma            4000 non-null float64\n",
      "sunset          4000 non-null float64\n",
      "richmond        4000 non-null float64\n",
      "glen_park       4000 non-null float64\n",
      "castro          4000 non-null float64\n",
      "potrero         4000 non-null float64\n",
      "hayes_valley    4000 non-null float64\n",
      "fillmore        4000 non-null float64\n",
      "bernal          4000 non-null float64\n",
      "marina          4000 non-null float64\n",
      "north_beach     4000 non-null float64\n",
      "excelsior       4000 non-null float64\n",
      "target          4000 non-null int64\n",
      "dtypes: float64(14), int64(1)\n",
      "memory usage: 500.0 KB\n"
     ]
    }
   ],
   "source": [
    "data.info()"
   ]
  },
  {
   "cell_type": "code",
   "execution_count": 57,
   "metadata": {},
   "outputs": [
    {
     "data": {
      "text/html": [
       "<div>\n",
       "<style>\n",
       "    .dataframe thead tr:only-child th {\n",
       "        text-align: right;\n",
       "    }\n",
       "\n",
       "    .dataframe thead th {\n",
       "        text-align: left;\n",
       "    }\n",
       "\n",
       "    .dataframe tbody tr th {\n",
       "        vertical-align: top;\n",
       "    }\n",
       "</style>\n",
       "<table border=\"1\" class=\"dataframe\">\n",
       "  <thead>\n",
       "    <tr style=\"text-align: right;\">\n",
       "      <th></th>\n",
       "      <th>haight</th>\n",
       "      <th>mission</th>\n",
       "      <th>soma</th>\n",
       "      <th>sunset</th>\n",
       "      <th>richmond</th>\n",
       "      <th>glen_park</th>\n",
       "      <th>castro</th>\n",
       "      <th>potrero</th>\n",
       "      <th>hayes_valley</th>\n",
       "      <th>fillmore</th>\n",
       "      <th>bernal</th>\n",
       "      <th>marina</th>\n",
       "      <th>north_beach</th>\n",
       "      <th>excelsior</th>\n",
       "      <th>target</th>\n",
       "    </tr>\n",
       "  </thead>\n",
       "  <tbody>\n",
       "    <tr>\n",
       "      <th>count</th>\n",
       "      <td>4000.000000</td>\n",
       "      <td>4000.000000</td>\n",
       "      <td>4000.000000</td>\n",
       "      <td>4000.000000</td>\n",
       "      <td>4000.000000</td>\n",
       "      <td>4000.000000</td>\n",
       "      <td>4000.000000</td>\n",
       "      <td>4000.000000</td>\n",
       "      <td>4000.000000</td>\n",
       "      <td>4000.000000</td>\n",
       "      <td>4000.000000</td>\n",
       "      <td>4000.000000</td>\n",
       "      <td>4000.000000</td>\n",
       "      <td>4000.000000</td>\n",
       "      <td>4000.000000</td>\n",
       "    </tr>\n",
       "    <tr>\n",
       "      <th>mean</th>\n",
       "      <td>-0.267225</td>\n",
       "      <td>0.913052</td>\n",
       "      <td>-0.021879</td>\n",
       "      <td>-0.007041</td>\n",
       "      <td>0.488571</td>\n",
       "      <td>0.000533</td>\n",
       "      <td>0.214764</td>\n",
       "      <td>0.473963</td>\n",
       "      <td>0.276314</td>\n",
       "      <td>-0.001805</td>\n",
       "      <td>0.719916</td>\n",
       "      <td>0.016530</td>\n",
       "      <td>0.301720</td>\n",
       "      <td>-0.686948</td>\n",
       "      <td>0.361750</td>\n",
       "    </tr>\n",
       "    <tr>\n",
       "      <th>std</th>\n",
       "      <td>1.937676</td>\n",
       "      <td>3.021233</td>\n",
       "      <td>1.000251</td>\n",
       "      <td>1.010572</td>\n",
       "      <td>1.709379</td>\n",
       "      <td>1.699261</td>\n",
       "      <td>1.899664</td>\n",
       "      <td>1.760681</td>\n",
       "      <td>1.797701</td>\n",
       "      <td>0.982354</td>\n",
       "      <td>1.800790</td>\n",
       "      <td>0.991669</td>\n",
       "      <td>1.821065</td>\n",
       "      <td>3.675909</td>\n",
       "      <td>0.480567</td>\n",
       "    </tr>\n",
       "    <tr>\n",
       "      <th>min</th>\n",
       "      <td>-6.937360</td>\n",
       "      <td>-12.397333</td>\n",
       "      <td>-4.303971</td>\n",
       "      <td>-3.754228</td>\n",
       "      <td>-6.185402</td>\n",
       "      <td>-6.502010</td>\n",
       "      <td>-8.197095</td>\n",
       "      <td>-5.768151</td>\n",
       "      <td>-5.999394</td>\n",
       "      <td>-3.689324</td>\n",
       "      <td>-6.220787</td>\n",
       "      <td>-3.169294</td>\n",
       "      <td>-5.589536</td>\n",
       "      <td>-13.042620</td>\n",
       "      <td>0.000000</td>\n",
       "    </tr>\n",
       "    <tr>\n",
       "      <th>25%</th>\n",
       "      <td>-1.559472</td>\n",
       "      <td>-1.004986</td>\n",
       "      <td>-0.693617</td>\n",
       "      <td>-0.663096</td>\n",
       "      <td>-0.631218</td>\n",
       "      <td>-1.125261</td>\n",
       "      <td>-0.965050</td>\n",
       "      <td>-0.747362</td>\n",
       "      <td>-0.907813</td>\n",
       "      <td>-0.674620</td>\n",
       "      <td>-0.506630</td>\n",
       "      <td>-0.650516</td>\n",
       "      <td>-0.921863</td>\n",
       "      <td>-3.161465</td>\n",
       "      <td>0.000000</td>\n",
       "    </tr>\n",
       "    <tr>\n",
       "      <th>50%</th>\n",
       "      <td>-0.272602</td>\n",
       "      <td>1.030225</td>\n",
       "      <td>0.001604</td>\n",
       "      <td>-0.018837</td>\n",
       "      <td>0.538179</td>\n",
       "      <td>0.047370</td>\n",
       "      <td>0.299145</td>\n",
       "      <td>0.495901</td>\n",
       "      <td>0.300742</td>\n",
       "      <td>0.004425</td>\n",
       "      <td>0.717371</td>\n",
       "      <td>0.013667</td>\n",
       "      <td>0.263889</td>\n",
       "      <td>-0.721604</td>\n",
       "      <td>0.000000</td>\n",
       "    </tr>\n",
       "    <tr>\n",
       "      <th>75%</th>\n",
       "      <td>0.947680</td>\n",
       "      <td>2.990420</td>\n",
       "      <td>0.645886</td>\n",
       "      <td>0.673647</td>\n",
       "      <td>1.594229</td>\n",
       "      <td>1.132822</td>\n",
       "      <td>1.461197</td>\n",
       "      <td>1.666650</td>\n",
       "      <td>1.480998</td>\n",
       "      <td>0.651688</td>\n",
       "      <td>1.946477</td>\n",
       "      <td>0.661317</td>\n",
       "      <td>1.512332</td>\n",
       "      <td>1.515665</td>\n",
       "      <td>1.000000</td>\n",
       "    </tr>\n",
       "    <tr>\n",
       "      <th>max</th>\n",
       "      <td>6.680262</td>\n",
       "      <td>12.031816</td>\n",
       "      <td>3.424344</td>\n",
       "      <td>4.113957</td>\n",
       "      <td>7.032764</td>\n",
       "      <td>6.458744</td>\n",
       "      <td>7.532350</td>\n",
       "      <td>6.954996</td>\n",
       "      <td>6.621243</td>\n",
       "      <td>3.880595</td>\n",
       "      <td>7.368307</td>\n",
       "      <td>3.135799</td>\n",
       "      <td>7.445434</td>\n",
       "      <td>13.432946</td>\n",
       "      <td>1.000000</td>\n",
       "    </tr>\n",
       "  </tbody>\n",
       "</table>\n",
       "</div>"
      ],
      "text/plain": [
       "            haight      mission         soma       sunset     richmond  \\\n",
       "count  4000.000000  4000.000000  4000.000000  4000.000000  4000.000000   \n",
       "mean     -0.267225     0.913052    -0.021879    -0.007041     0.488571   \n",
       "std       1.937676     3.021233     1.000251     1.010572     1.709379   \n",
       "min      -6.937360   -12.397333    -4.303971    -3.754228    -6.185402   \n",
       "25%      -1.559472    -1.004986    -0.693617    -0.663096    -0.631218   \n",
       "50%      -0.272602     1.030225     0.001604    -0.018837     0.538179   \n",
       "75%       0.947680     2.990420     0.645886     0.673647     1.594229   \n",
       "max       6.680262    12.031816     3.424344     4.113957     7.032764   \n",
       "\n",
       "         glen_park       castro      potrero  hayes_valley     fillmore  \\\n",
       "count  4000.000000  4000.000000  4000.000000   4000.000000  4000.000000   \n",
       "mean      0.000533     0.214764     0.473963      0.276314    -0.001805   \n",
       "std       1.699261     1.899664     1.760681      1.797701     0.982354   \n",
       "min      -6.502010    -8.197095    -5.768151     -5.999394    -3.689324   \n",
       "25%      -1.125261    -0.965050    -0.747362     -0.907813    -0.674620   \n",
       "50%       0.047370     0.299145     0.495901      0.300742     0.004425   \n",
       "75%       1.132822     1.461197     1.666650      1.480998     0.651688   \n",
       "max       6.458744     7.532350     6.954996      6.621243     3.880595   \n",
       "\n",
       "            bernal       marina  north_beach    excelsior       target  \n",
       "count  4000.000000  4000.000000  4000.000000  4000.000000  4000.000000  \n",
       "mean      0.719916     0.016530     0.301720    -0.686948     0.361750  \n",
       "std       1.800790     0.991669     1.821065     3.675909     0.480567  \n",
       "min      -6.220787    -3.169294    -5.589536   -13.042620     0.000000  \n",
       "25%      -0.506630    -0.650516    -0.921863    -3.161465     0.000000  \n",
       "50%       0.717371     0.013667     0.263889    -0.721604     0.000000  \n",
       "75%       1.946477     0.661317     1.512332     1.515665     1.000000  \n",
       "max       7.368307     3.135799     7.445434    13.432946     1.000000  "
      ]
     },
     "execution_count": 57,
     "metadata": {},
     "output_type": "execute_result"
    }
   ],
   "source": [
    "data.describe()"
   ]
  },
  {
   "cell_type": "code",
   "execution_count": 59,
   "metadata": {
    "scrolled": true
   },
   "outputs": [
    {
     "data": {
      "text/plain": [
       "<matplotlib.axes._subplots.AxesSubplot at 0xffd0080>"
      ]
     },
     "execution_count": 59,
     "metadata": {},
     "output_type": "execute_result"
    },
    {
     "data": {
      "image/png": "[encoded data removed]",
      "text/plain": [
       "<matplotlib.figure.Figure at 0xe78f898>"
      ]
     },
     "metadata": {},
     "output_type": "display_data"
    }
   ],
   "source": [
    "sns.heatmap(data.corr())"
   ]
  },
  {
   "cell_type": "code",
   "execution_count": 60,
   "metadata": {},
   "outputs": [
    {
     "data": {
      "text/html": [
       "<div>\n",
       "<style>\n",
       "    .dataframe thead tr:only-child th {\n",
       "        text-align: right;\n",
       "    }\n",
       "\n",
       "    .dataframe thead th {\n",
       "        text-align: left;\n",
       "    }\n",
       "\n",
       "    .dataframe tbody tr th {\n",
       "        vertical-align: top;\n",
       "    }\n",
       "</style>\n",
       "<table border=\"1\" class=\"dataframe\">\n",
       "  <thead>\n",
       "    <tr style=\"text-align: right;\">\n",
       "      <th></th>\n",
       "      <th>haight</th>\n",
       "      <th>mission</th>\n",
       "      <th>soma</th>\n",
       "      <th>sunset</th>\n",
       "      <th>richmond</th>\n",
       "      <th>glen_park</th>\n",
       "      <th>castro</th>\n",
       "      <th>potrero</th>\n",
       "      <th>hayes_valley</th>\n",
       "      <th>fillmore</th>\n",
       "      <th>bernal</th>\n",
       "      <th>marina</th>\n",
       "      <th>north_beach</th>\n",
       "      <th>excelsior</th>\n",
       "      <th>target</th>\n",
       "    </tr>\n",
       "  </thead>\n",
       "  <tbody>\n",
       "    <tr>\n",
       "      <th>haight</th>\n",
       "      <td>1.000000</td>\n",
       "      <td>-0.691099</td>\n",
       "      <td>-0.003451</td>\n",
       "      <td>0.017411</td>\n",
       "      <td>0.023025</td>\n",
       "      <td>-0.055019</td>\n",
       "      <td>-0.106320</td>\n",
       "      <td>-0.034309</td>\n",
       "      <td>-0.299097</td>\n",
       "      <td>0.006428</td>\n",
       "      <td>0.164962</td>\n",
       "      <td>0.028713</td>\n",
       "      <td>0.324309</td>\n",
       "      <td>-0.423019</td>\n",
       "      <td>-0.171926</td>\n",
       "    </tr>\n",
       "    <tr>\n",
       "      <th>mission</th>\n",
       "      <td>-0.691099</td>\n",
       "      <td>1.000000</td>\n",
       "      <td>0.013116</td>\n",
       "      <td>-0.006411</td>\n",
       "      <td>0.448394</td>\n",
       "      <td>0.023159</td>\n",
       "      <td>0.229411</td>\n",
       "      <td>0.248336</td>\n",
       "      <td>0.672682</td>\n",
       "      <td>-0.004066</td>\n",
       "      <td>-0.223609</td>\n",
       "      <td>-0.013775</td>\n",
       "      <td>-0.132077</td>\n",
       "      <td>0.508043</td>\n",
       "      <td>0.136988</td>\n",
       "    </tr>\n",
       "    <tr>\n",
       "      <th>soma</th>\n",
       "      <td>-0.003451</td>\n",
       "      <td>0.013116</td>\n",
       "      <td>1.000000</td>\n",
       "      <td>-0.017127</td>\n",
       "      <td>-0.008683</td>\n",
       "      <td>0.023943</td>\n",
       "      <td>0.033782</td>\n",
       "      <td>0.008518</td>\n",
       "      <td>0.011988</td>\n",
       "      <td>-0.003719</td>\n",
       "      <td>-0.015025</td>\n",
       "      <td>-0.003473</td>\n",
       "      <td>-0.021821</td>\n",
       "      <td>0.030777</td>\n",
       "      <td>0.010718</td>\n",
       "    </tr>\n",
       "    <tr>\n",
       "      <th>sunset</th>\n",
       "      <td>0.017411</td>\n",
       "      <td>-0.006411</td>\n",
       "      <td>-0.017127</td>\n",
       "      <td>1.000000</td>\n",
       "      <td>0.028527</td>\n",
       "      <td>-0.017834</td>\n",
       "      <td>0.011205</td>\n",
       "      <td>0.017100</td>\n",
       "      <td>-0.018217</td>\n",
       "      <td>0.000801</td>\n",
       "      <td>-0.007153</td>\n",
       "      <td>0.004034</td>\n",
       "      <td>-0.024942</td>\n",
       "      <td>-0.000102</td>\n",
       "      <td>-0.026396</td>\n",
       "    </tr>\n",
       "    <tr>\n",
       "      <th>richmond</th>\n",
       "      <td>0.023025</td>\n",
       "      <td>0.448394</td>\n",
       "      <td>-0.008683</td>\n",
       "      <td>0.028527</td>\n",
       "      <td>1.000000</td>\n",
       "      <td>0.011149</td>\n",
       "      <td>-0.038702</td>\n",
       "      <td>0.076728</td>\n",
       "      <td>0.091362</td>\n",
       "      <td>-0.007679</td>\n",
       "      <td>-0.202575</td>\n",
       "      <td>-0.023585</td>\n",
       "      <td>-0.067719</td>\n",
       "      <td>0.170600</td>\n",
       "      <td>-0.196710</td>\n",
       "    </tr>\n",
       "    <tr>\n",
       "      <th>glen_park</th>\n",
       "      <td>-0.055019</td>\n",
       "      <td>0.023159</td>\n",
       "      <td>0.023943</td>\n",
       "      <td>-0.017834</td>\n",
       "      <td>0.011149</td>\n",
       "      <td>1.000000</td>\n",
       "      <td>0.119650</td>\n",
       "      <td>-0.043640</td>\n",
       "      <td>-0.034043</td>\n",
       "      <td>0.010605</td>\n",
       "      <td>-0.019650</td>\n",
       "      <td>0.006034</td>\n",
       "      <td>-0.432634</td>\n",
       "      <td>0.374960</td>\n",
       "      <td>0.005610</td>\n",
       "    </tr>\n",
       "    <tr>\n",
       "      <th>castro</th>\n",
       "      <td>-0.106320</td>\n",
       "      <td>0.229411</td>\n",
       "      <td>0.033782</td>\n",
       "      <td>0.011205</td>\n",
       "      <td>-0.038702</td>\n",
       "      <td>0.119650</td>\n",
       "      <td>1.000000</td>\n",
       "      <td>-0.019393</td>\n",
       "      <td>0.118713</td>\n",
       "      <td>0.016342</td>\n",
       "      <td>0.063033</td>\n",
       "      <td>0.006320</td>\n",
       "      <td>-0.278914</td>\n",
       "      <td>0.441421</td>\n",
       "      <td>0.187220</td>\n",
       "    </tr>\n",
       "    <tr>\n",
       "      <th>potrero</th>\n",
       "      <td>-0.034309</td>\n",
       "      <td>0.248336</td>\n",
       "      <td>0.008518</td>\n",
       "      <td>0.017100</td>\n",
       "      <td>0.076728</td>\n",
       "      <td>-0.043640</td>\n",
       "      <td>-0.019393</td>\n",
       "      <td>1.000000</td>\n",
       "      <td>-0.044419</td>\n",
       "      <td>-0.035553</td>\n",
       "      <td>0.093639</td>\n",
       "      <td>0.033770</td>\n",
       "      <td>0.060056</td>\n",
       "      <td>-0.368261</td>\n",
       "      <td>-0.199197</td>\n",
       "    </tr>\n",
       "    <tr>\n",
       "      <th>hayes_valley</th>\n",
       "      <td>-0.299097</td>\n",
       "      <td>0.672682</td>\n",
       "      <td>0.011988</td>\n",
       "      <td>-0.018217</td>\n",
       "      <td>0.091362</td>\n",
       "      <td>-0.034043</td>\n",
       "      <td>0.118713</td>\n",
       "      <td>-0.044419</td>\n",
       "      <td>1.000000</td>\n",
       "      <td>0.015605</td>\n",
       "      <td>0.105327</td>\n",
       "      <td>0.001810</td>\n",
       "      <td>-0.011746</td>\n",
       "      <td>0.453605</td>\n",
       "      <td>0.176853</td>\n",
       "    </tr>\n",
       "    <tr>\n",
       "      <th>fillmore</th>\n",
       "      <td>0.006428</td>\n",
       "      <td>-0.004066</td>\n",
       "      <td>-0.003719</td>\n",
       "      <td>0.000801</td>\n",
       "      <td>-0.007679</td>\n",
       "      <td>0.010605</td>\n",
       "      <td>0.016342</td>\n",
       "      <td>-0.035553</td>\n",
       "      <td>0.015605</td>\n",
       "      <td>1.000000</td>\n",
       "      <td>-0.003304</td>\n",
       "      <td>-0.019405</td>\n",
       "      <td>-0.006632</td>\n",
       "      <td>0.026074</td>\n",
       "      <td>0.028804</td>\n",
       "    </tr>\n",
       "    <tr>\n",
       "      <th>bernal</th>\n",
       "      <td>0.164962</td>\n",
       "      <td>-0.223609</td>\n",
       "      <td>-0.015025</td>\n",
       "      <td>-0.007153</td>\n",
       "      <td>-0.202575</td>\n",
       "      <td>-0.019650</td>\n",
       "      <td>0.063033</td>\n",
       "      <td>0.093639</td>\n",
       "      <td>0.105327</td>\n",
       "      <td>-0.003304</td>\n",
       "      <td>1.000000</td>\n",
       "      <td>0.022885</td>\n",
       "      <td>0.250826</td>\n",
       "      <td>-0.516126</td>\n",
       "      <td>-0.011225</td>\n",
       "    </tr>\n",
       "    <tr>\n",
       "      <th>marina</th>\n",
       "      <td>0.028713</td>\n",
       "      <td>-0.013775</td>\n",
       "      <td>-0.003473</td>\n",
       "      <td>0.004034</td>\n",
       "      <td>-0.023585</td>\n",
       "      <td>0.006034</td>\n",
       "      <td>0.006320</td>\n",
       "      <td>0.033770</td>\n",
       "      <td>0.001810</td>\n",
       "      <td>-0.019405</td>\n",
       "      <td>0.022885</td>\n",
       "      <td>1.000000</td>\n",
       "      <td>0.025445</td>\n",
       "      <td>-0.028492</td>\n",
       "      <td>-0.012432</td>\n",
       "    </tr>\n",
       "    <tr>\n",
       "      <th>north_beach</th>\n",
       "      <td>0.324309</td>\n",
       "      <td>-0.132077</td>\n",
       "      <td>-0.021821</td>\n",
       "      <td>-0.024942</td>\n",
       "      <td>-0.067719</td>\n",
       "      <td>-0.432634</td>\n",
       "      <td>-0.278914</td>\n",
       "      <td>0.060056</td>\n",
       "      <td>-0.011746</td>\n",
       "      <td>-0.006632</td>\n",
       "      <td>0.250826</td>\n",
       "      <td>0.025445</td>\n",
       "      <td>1.000000</td>\n",
       "      <td>-0.678071</td>\n",
       "      <td>0.198166</td>\n",
       "    </tr>\n",
       "    <tr>\n",
       "      <th>excelsior</th>\n",
       "      <td>-0.423019</td>\n",
       "      <td>0.508043</td>\n",
       "      <td>0.030777</td>\n",
       "      <td>-0.000102</td>\n",
       "      <td>0.170600</td>\n",
       "      <td>0.374960</td>\n",
       "      <td>0.441421</td>\n",
       "      <td>-0.368261</td>\n",
       "      <td>0.453605</td>\n",
       "      <td>0.026074</td>\n",
       "      <td>-0.516126</td>\n",
       "      <td>-0.028492</td>\n",
       "      <td>-0.678071</td>\n",
       "      <td>1.000000</td>\n",
       "      <td>0.121039</td>\n",
       "    </tr>\n",
       "    <tr>\n",
       "      <th>target</th>\n",
       "      <td>-0.171926</td>\n",
       "      <td>0.136988</td>\n",
       "      <td>0.010718</td>\n",
       "      <td>-0.026396</td>\n",
       "      <td>-0.196710</td>\n",
       "      <td>0.005610</td>\n",
       "      <td>0.187220</td>\n",
       "      <td>-0.199197</td>\n",
       "      <td>0.176853</td>\n",
       "      <td>0.028804</td>\n",
       "      <td>-0.011225</td>\n",
       "      <td>-0.012432</td>\n",
       "      <td>0.198166</td>\n",
       "      <td>0.121039</td>\n",
       "      <td>1.000000</td>\n",
       "    </tr>\n",
       "  </tbody>\n",
       "</table>\n",
       "</div>"
      ],
      "text/plain": [
       "                haight   mission      soma    sunset  richmond  glen_park  \\\n",
       "haight        1.000000 -0.691099 -0.003451  0.017411  0.023025  -0.055019   \n",
       "mission      -0.691099  1.000000  0.013116 -0.006411  0.448394   0.023159   \n",
       "soma         -0.003451  0.013116  1.000000 -0.017127 -0.008683   0.023943   \n",
       "sunset        0.017411 -0.006411 -0.017127  1.000000  0.028527  -0.017834   \n",
       "richmond      0.023025  0.448394 -0.008683  0.028527  1.000000   0.011149   \n",
       "glen_park    -0.055019  0.023159  0.023943 -0.017834  0.011149   1.000000   \n",
       "castro       -0.106320  0.229411  0.033782  0.011205 -0.038702   0.119650   \n",
       "potrero      -0.034309  0.248336  0.008518  0.017100  0.076728  -0.043640   \n",
       "hayes_valley -0.299097  0.672682  0.011988 -0.018217  0.091362  -0.034043   \n",
       "fillmore      0.006428 -0.004066 -0.003719  0.000801 -0.007679   0.010605   \n",
       "bernal        0.164962 -0.223609 -0.015025 -0.007153 -0.202575  -0.019650   \n",
       "marina        0.028713 -0.013775 -0.003473  0.004034 -0.023585   0.006034   \n",
       "north_beach   0.324309 -0.132077 -0.021821 -0.024942 -0.067719  -0.432634   \n",
       "excelsior    -0.423019  0.508043  0.030777 -0.000102  0.170600   0.374960   \n",
       "target       -0.171926  0.136988  0.010718 -0.026396 -0.196710   0.005610   \n",
       "\n",
       "                castro   potrero  hayes_valley  fillmore    bernal    marina  \\\n",
       "haight       -0.106320 -0.034309     -0.299097  0.006428  0.164962  0.028713   \n",
       "mission       0.229411  0.248336      0.672682 -0.004066 -0.223609 -0.013775   \n",
       "soma          0.033782  0.008518      0.011988 -0.003719 -0.015025 -0.003473   \n",
       "sunset        0.011205  0.017100     -0.018217  0.000801 -0.007153  0.004034   \n",
       "richmond     -0.038702  0.076728      0.091362 -0.007679 -0.202575 -0.023585   \n",
       "glen_park     0.119650 -0.043640     -0.034043  0.010605 -0.019650  0.006034   \n",
       "castro        1.000000 -0.019393      0.118713  0.016342  0.063033  0.006320   \n",
       "potrero      -0.019393  1.000000     -0.044419 -0.035553  0.093639  0.033770   \n",
       "hayes_valley  0.118713 -0.044419      1.000000  0.015605  0.105327  0.001810   \n",
       "fillmore      0.016342 -0.035553      0.015605  1.000000 -0.003304 -0.019405   \n",
       "bernal        0.063033  0.093639      0.105327 -0.003304  1.000000  0.022885   \n",
       "marina        0.006320  0.033770      0.001810 -0.019405  0.022885  1.000000   \n",
       "north_beach  -0.278914  0.060056     -0.011746 -0.006632  0.250826  0.025445   \n",
       "excelsior     0.441421 -0.368261      0.453605  0.026074 -0.516126 -0.028492   \n",
       "target        0.187220 -0.199197      0.176853  0.028804 -0.011225 -0.012432   \n",
       "\n",
       "              north_beach  excelsior    target  \n",
       "haight           0.324309  -0.423019 -0.171926  \n",
       "mission         -0.132077   0.508043  0.136988  \n",
       "soma            -0.021821   0.030777  0.010718  \n",
       "sunset          -0.024942  -0.000102 -0.026396  \n",
       "richmond        -0.067719   0.170600 -0.196710  \n",
       "glen_park       -0.432634   0.374960  0.005610  \n",
       "castro          -0.278914   0.441421  0.187220  \n",
       "potrero          0.060056  -0.368261 -0.199197  \n",
       "hayes_valley    -0.011746   0.453605  0.176853  \n",
       "fillmore        -0.006632   0.026074  0.028804  \n",
       "bernal           0.250826  -0.516126 -0.011225  \n",
       "marina           0.025445  -0.028492 -0.012432  \n",
       "north_beach      1.000000  -0.678071  0.198166  \n",
       "excelsior       -0.678071   1.000000  0.121039  \n",
       "target           0.198166   0.121039  1.000000  "
      ]
     },
     "execution_count": 60,
     "metadata": {},
     "output_type": "execute_result"
    }
   ],
   "source": [
    "data.corr()"
   ]
  },
  {
   "cell_type": "code",
   "execution_count": 61,
   "metadata": {
    "collapsed": true
   },
   "outputs": [],
   "source": [
    "#Assign target and parameters\n",
    "\n",
    "y = data.target\n",
    "X = data.columns\n",
    "X = data.drop('target', axis=1)\n",
    "\n",
    "#split data into training and testing sets\n",
    "\n",
    "X_train, X_test, y_train, y_test = train_test_split(X, y, test_size=0.25, random_state=0)"
   ]
  },
  {
   "cell_type": "code",
   "execution_count": 67,
   "metadata": {
    "collapsed": true
   },
   "outputs": [],
   "source": [
    "def evaluate_models(X, y):\n",
    "    \n",
    "    cls = ensemble.RandomForestClassifier(n_estimators=50) \n",
    "    cls.fit(X, y)\n",
    "\n",
    "    print 'Random Forest:', cross_val_score(cls, X, y, scoring='roc_auc', cv=5).mean()\n",
    "    \n",
    "    cls = LogisticRegression() \n",
    "    cls.fit(X, y)\n",
    "\n",
    "    print 'Logistic Regression:', cross_val_score(cls, X, y, scoring='roc_auc', cv=5).mean()\n",
    "    \n",
    "    cls = ensemble.GradientBoostingClassifier(n_estimators=50) \n",
    "    cls.fit(X, y)\n",
    "\n",
    "    print 'GBDT:', cross_val_score(cls, X, y, scoring='roc_auc', cv=5).mean()\n",
    "    \n",
    "    cls = neighbors.KNeighborsClassifier(n_neighbors=5)\n",
    "    cls.fit(X, y)\n",
    "\n",
    "    print 'KNN:', cross_val_score(cls, X, y, scoring='roc_auc', cv=5).mean()"
   ]
  },
  {
   "cell_type": "code",
   "execution_count": 68,
   "metadata": {
    "scrolled": true
   },
   "outputs": [
    {
     "name": "stdout",
     "output_type": "stream",
     "text": [
      "Random Forest: 0.950857736887\n",
      "Logistic Regression: 0.822400815861\n",
      "GBDT: 0.927713547834\n",
      "KNN: 0.940102416165\n"
     ]
    }
   ],
   "source": [
    "evaluate_models(X_train, y_train)"
   ]
  },
  {
   "cell_type": "code",
   "execution_count": 69,
   "metadata": {
    "scrolled": true
   },
   "outputs": [
    {
     "name": "stdout",
     "output_type": "stream",
     "text": [
      "Random Forest: 0.923252747253\n",
      "Logistic Regression: 0.831758241758\n",
      "GBDT: 0.916395604396\n",
      "KNN: 0.934384615385\n"
     ]
    }
   ],
   "source": [
    "evaluate_models(X_test, y_test)"
   ]
  },
  {
   "cell_type": "code",
   "execution_count": 71,
   "metadata": {},
   "outputs": [],
   "source": [
    "X_train2 = X_train[['mission','sunset','fillmore','marina']]\n",
    "X_test2 = X_test[['mission','sunset','fillmore','marina']]"
   ]
  },
  {
   "cell_type": "code",
   "execution_count": 84,
   "metadata": {},
   "outputs": [
    {
     "name": "stdout",
     "output_type": "stream",
     "text": [
      " Training set 2 evaluation:  Random Forest: 0.555844250256\n",
      "Logistic Regression: 0.579679407086\n",
      "GBDT: 0.580456620718\n",
      "KNN: 0.540443744509\n",
      "None\n",
      "Test set 2 evaluation:  Random Forest: 0.588714285714\n",
      "Logistic Regression: 0.591648351648\n",
      "GBDT: 0.615824175824\n",
      "KNN: 0.556197802198\n",
      "None\n"
     ]
    }
   ],
   "source": [
    "#evaluate performance on data sets with reduced parameters\n",
    "print 'Training set 2 evaluation: ', evaluate_models(X_train2, y_train)\n",
    "print 'Test set 2 evaluation: ' , evaluate_models(X_test2, y_test)"
   ]
  }
 ],
 "metadata": {
  "kernelspec": {
   "display_name": "Python 2",
   "language": "python",
   "name": "python2"
  },
  "language_info": {
   "codemirror_mode": {
    "name": "ipython",
    "version": 2
   },
   "file_extension": ".py",
   "mimetype": "text/x-python",
   "name": "python",
   "nbconvert_exporter": "python",
   "pygments_lexer": "ipython2",
   "version": "2.7.14"
  }
 },
 "nbformat": 4,
 "nbformat_minor": 2
}
