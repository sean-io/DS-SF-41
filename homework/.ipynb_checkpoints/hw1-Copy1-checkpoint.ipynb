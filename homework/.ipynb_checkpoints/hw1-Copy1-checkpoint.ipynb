{
 "cells": [
  {
   "cell_type": "markdown",
   "metadata": {},
   "source": [
    "# Homework Assignment #1"
   ]
  },
  {
   "cell_type": "code",
   "execution_count": 1,
   "metadata": {
    "collapsed": true
   },
   "outputs": [],
   "source": [
    "import pandas as pd\n",
    "import numpy as np\n",
    "import matplotlib.pyplot as plt\n",
    "%matplotlib inline"
   ]
  },
  {
   "cell_type": "markdown",
   "metadata": {},
   "source": [
    "## Section 1: Police Killings"
   ]
  },
  {
   "cell_type": "code",
   "execution_count": 2,
   "metadata": {},
   "outputs": [
    {
     "data": {
      "text/html": [
       "<div>\n",
       "<style>\n",
       "    .dataframe thead tr:only-child th {\n",
       "        text-align: right;\n",
       "    }\n",
       "\n",
       "    .dataframe thead th {\n",
       "        text-align: left;\n",
       "    }\n",
       "\n",
       "    .dataframe tbody tr th {\n",
       "        vertical-align: top;\n",
       "    }\n",
       "</style>\n",
       "<table border=\"1\" class=\"dataframe\">\n",
       "  <thead>\n",
       "    <tr style=\"text-align: right;\">\n",
       "      <th></th>\n",
       "      <th>name</th>\n",
       "      <th>age</th>\n",
       "      <th>gender</th>\n",
       "      <th>raceethnicity</th>\n",
       "      <th>month</th>\n",
       "      <th>day</th>\n",
       "      <th>year</th>\n",
       "      <th>streetaddress</th>\n",
       "      <th>city</th>\n",
       "      <th>state</th>\n",
       "      <th>lawenforcementagency</th>\n",
       "      <th>cause</th>\n",
       "      <th>armed</th>\n",
       "      <th>county_income</th>\n",
       "    </tr>\n",
       "  </thead>\n",
       "  <tbody>\n",
       "    <tr>\n",
       "      <th>0</th>\n",
       "      <td>A'donte Washington</td>\n",
       "      <td>16</td>\n",
       "      <td>Male</td>\n",
       "      <td>Black</td>\n",
       "      <td>February</td>\n",
       "      <td>23</td>\n",
       "      <td>2015</td>\n",
       "      <td>Clearview Ln</td>\n",
       "      <td>Millbrook</td>\n",
       "      <td>AL</td>\n",
       "      <td>Millbrook Police Department</td>\n",
       "      <td>Gunshot</td>\n",
       "      <td>No</td>\n",
       "      <td>54766</td>\n",
       "    </tr>\n",
       "    <tr>\n",
       "      <th>1</th>\n",
       "      <td>Aaron Rutledge</td>\n",
       "      <td>27</td>\n",
       "      <td>Male</td>\n",
       "      <td>White</td>\n",
       "      <td>April</td>\n",
       "      <td>2</td>\n",
       "      <td>2015</td>\n",
       "      <td>300 block Iris Park Dr</td>\n",
       "      <td>Pineville</td>\n",
       "      <td>LA</td>\n",
       "      <td>Rapides Parish Sheriff's Office</td>\n",
       "      <td>Gunshot</td>\n",
       "      <td>No</td>\n",
       "      <td>40930</td>\n",
       "    </tr>\n",
       "    <tr>\n",
       "      <th>2</th>\n",
       "      <td>Aaron Siler</td>\n",
       "      <td>26</td>\n",
       "      <td>Male</td>\n",
       "      <td>White</td>\n",
       "      <td>March</td>\n",
       "      <td>14</td>\n",
       "      <td>2015</td>\n",
       "      <td>22nd Ave and 56th St</td>\n",
       "      <td>Kenosha</td>\n",
       "      <td>WI</td>\n",
       "      <td>Kenosha Police Department</td>\n",
       "      <td>Gunshot</td>\n",
       "      <td>No</td>\n",
       "      <td>54930</td>\n",
       "    </tr>\n",
       "    <tr>\n",
       "      <th>3</th>\n",
       "      <td>Aaron Valdez</td>\n",
       "      <td>25</td>\n",
       "      <td>Male</td>\n",
       "      <td>Hispanic/Latino</td>\n",
       "      <td>March</td>\n",
       "      <td>11</td>\n",
       "      <td>2015</td>\n",
       "      <td>3000 Seminole Ave</td>\n",
       "      <td>South Gate</td>\n",
       "      <td>CA</td>\n",
       "      <td>South Gate Police Department</td>\n",
       "      <td>Gunshot</td>\n",
       "      <td>Firearm</td>\n",
       "      <td>55909</td>\n",
       "    </tr>\n",
       "    <tr>\n",
       "      <th>4</th>\n",
       "      <td>Adam Jovicic</td>\n",
       "      <td>29</td>\n",
       "      <td>Male</td>\n",
       "      <td>White</td>\n",
       "      <td>March</td>\n",
       "      <td>19</td>\n",
       "      <td>2015</td>\n",
       "      <td>364 Hiwood Ave</td>\n",
       "      <td>Munroe Falls</td>\n",
       "      <td>OH</td>\n",
       "      <td>Kent Police Department</td>\n",
       "      <td>Gunshot</td>\n",
       "      <td>No</td>\n",
       "      <td>49669</td>\n",
       "    </tr>\n",
       "  </tbody>\n",
       "</table>\n",
       "</div>"
      ],
      "text/plain": [
       "                 name  age gender    raceethnicity     month  day  year  \\\n",
       "0  A'donte Washington   16   Male            Black  February   23  2015   \n",
       "1      Aaron Rutledge   27   Male            White     April    2  2015   \n",
       "2         Aaron Siler   26   Male            White     March   14  2015   \n",
       "3        Aaron Valdez   25   Male  Hispanic/Latino     March   11  2015   \n",
       "4        Adam Jovicic   29   Male            White     March   19  2015   \n",
       "\n",
       "            streetaddress          city state  \\\n",
       "0            Clearview Ln     Millbrook    AL   \n",
       "1  300 block Iris Park Dr     Pineville    LA   \n",
       "2    22nd Ave and 56th St       Kenosha    WI   \n",
       "3       3000 Seminole Ave    South Gate    CA   \n",
       "4          364 Hiwood Ave  Munroe Falls    OH   \n",
       "\n",
       "              lawenforcementagency    cause    armed  county_income  \n",
       "0      Millbrook Police Department  Gunshot       No          54766  \n",
       "1  Rapides Parish Sheriff's Office  Gunshot       No          40930  \n",
       "2        Kenosha Police Department  Gunshot       No          54930  \n",
       "3     South Gate Police Department  Gunshot  Firearm          55909  \n",
       "4           Kent Police Department  Gunshot       No          49669  "
      ]
     },
     "execution_count": 2,
     "metadata": {},
     "output_type": "execute_result"
    }
   ],
   "source": [
    "pk = pd.read_csv('C:\\Users\\seanm\\Documents\\GitHub\\DS-SF-41\\data\\police-killings.csv', index_col=[0])\n",
    "pk.head()"
   ]
  },
  {
   "cell_type": "markdown",
   "metadata": {
    "collapsed": true
   },
   "source": [
    "### 1. Make the following changes to column names:\n",
    "\n",
    "- Rename \"lawenforcementagency\" to \"agency\"\n",
    "- Rename \"raceethnicity\" to \"race\""
   ]
  },
  {
   "cell_type": "code",
   "execution_count": 3,
   "metadata": {},
   "outputs": [
    {
     "data": {
      "text/html": [
       "<div>\n",
       "<style>\n",
       "    .dataframe thead tr:only-child th {\n",
       "        text-align: right;\n",
       "    }\n",
       "\n",
       "    .dataframe thead th {\n",
       "        text-align: left;\n",
       "    }\n",
       "\n",
       "    .dataframe tbody tr th {\n",
       "        vertical-align: top;\n",
       "    }\n",
       "</style>\n",
       "<table border=\"1\" class=\"dataframe\">\n",
       "  <thead>\n",
       "    <tr style=\"text-align: right;\">\n",
       "      <th></th>\n",
       "      <th>name</th>\n",
       "      <th>age</th>\n",
       "      <th>gender</th>\n",
       "      <th>race</th>\n",
       "      <th>month</th>\n",
       "      <th>day</th>\n",
       "      <th>year</th>\n",
       "      <th>streetaddress</th>\n",
       "      <th>city</th>\n",
       "      <th>state</th>\n",
       "      <th>agency</th>\n",
       "      <th>cause</th>\n",
       "      <th>armed</th>\n",
       "      <th>county_income</th>\n",
       "    </tr>\n",
       "  </thead>\n",
       "  <tbody>\n",
       "    <tr>\n",
       "      <th>0</th>\n",
       "      <td>A'donte Washington</td>\n",
       "      <td>16</td>\n",
       "      <td>Male</td>\n",
       "      <td>Black</td>\n",
       "      <td>February</td>\n",
       "      <td>23</td>\n",
       "      <td>2015</td>\n",
       "      <td>Clearview Ln</td>\n",
       "      <td>Millbrook</td>\n",
       "      <td>AL</td>\n",
       "      <td>Millbrook Police Department</td>\n",
       "      <td>Gunshot</td>\n",
       "      <td>No</td>\n",
       "      <td>54766</td>\n",
       "    </tr>\n",
       "    <tr>\n",
       "      <th>1</th>\n",
       "      <td>Aaron Rutledge</td>\n",
       "      <td>27</td>\n",
       "      <td>Male</td>\n",
       "      <td>White</td>\n",
       "      <td>April</td>\n",
       "      <td>2</td>\n",
       "      <td>2015</td>\n",
       "      <td>300 block Iris Park Dr</td>\n",
       "      <td>Pineville</td>\n",
       "      <td>LA</td>\n",
       "      <td>Rapides Parish Sheriff's Office</td>\n",
       "      <td>Gunshot</td>\n",
       "      <td>No</td>\n",
       "      <td>40930</td>\n",
       "    </tr>\n",
       "    <tr>\n",
       "      <th>2</th>\n",
       "      <td>Aaron Siler</td>\n",
       "      <td>26</td>\n",
       "      <td>Male</td>\n",
       "      <td>White</td>\n",
       "      <td>March</td>\n",
       "      <td>14</td>\n",
       "      <td>2015</td>\n",
       "      <td>22nd Ave and 56th St</td>\n",
       "      <td>Kenosha</td>\n",
       "      <td>WI</td>\n",
       "      <td>Kenosha Police Department</td>\n",
       "      <td>Gunshot</td>\n",
       "      <td>No</td>\n",
       "      <td>54930</td>\n",
       "    </tr>\n",
       "    <tr>\n",
       "      <th>3</th>\n",
       "      <td>Aaron Valdez</td>\n",
       "      <td>25</td>\n",
       "      <td>Male</td>\n",
       "      <td>Hispanic/Latino</td>\n",
       "      <td>March</td>\n",
       "      <td>11</td>\n",
       "      <td>2015</td>\n",
       "      <td>3000 Seminole Ave</td>\n",
       "      <td>South Gate</td>\n",
       "      <td>CA</td>\n",
       "      <td>South Gate Police Department</td>\n",
       "      <td>Gunshot</td>\n",
       "      <td>Firearm</td>\n",
       "      <td>55909</td>\n",
       "    </tr>\n",
       "    <tr>\n",
       "      <th>4</th>\n",
       "      <td>Adam Jovicic</td>\n",
       "      <td>29</td>\n",
       "      <td>Male</td>\n",
       "      <td>White</td>\n",
       "      <td>March</td>\n",
       "      <td>19</td>\n",
       "      <td>2015</td>\n",
       "      <td>364 Hiwood Ave</td>\n",
       "      <td>Munroe Falls</td>\n",
       "      <td>OH</td>\n",
       "      <td>Kent Police Department</td>\n",
       "      <td>Gunshot</td>\n",
       "      <td>No</td>\n",
       "      <td>49669</td>\n",
       "    </tr>\n",
       "  </tbody>\n",
       "</table>\n",
       "</div>"
      ],
      "text/plain": [
       "                 name  age gender             race     month  day  year  \\\n",
       "0  A'donte Washington   16   Male            Black  February   23  2015   \n",
       "1      Aaron Rutledge   27   Male            White     April    2  2015   \n",
       "2         Aaron Siler   26   Male            White     March   14  2015   \n",
       "3        Aaron Valdez   25   Male  Hispanic/Latino     March   11  2015   \n",
       "4        Adam Jovicic   29   Male            White     March   19  2015   \n",
       "\n",
       "            streetaddress          city state  \\\n",
       "0            Clearview Ln     Millbrook    AL   \n",
       "1  300 block Iris Park Dr     Pineville    LA   \n",
       "2    22nd Ave and 56th St       Kenosha    WI   \n",
       "3       3000 Seminole Ave    South Gate    CA   \n",
       "4          364 Hiwood Ave  Munroe Falls    OH   \n",
       "\n",
       "                            agency    cause    armed  county_income  \n",
       "0      Millbrook Police Department  Gunshot       No          54766  \n",
       "1  Rapides Parish Sheriff's Office  Gunshot       No          40930  \n",
       "2        Kenosha Police Department  Gunshot       No          54930  \n",
       "3     South Gate Police Department  Gunshot  Firearm          55909  \n",
       "4           Kent Police Department  Gunshot       No          49669  "
      ]
     },
     "execution_count": 3,
     "metadata": {},
     "output_type": "execute_result"
    }
   ],
   "source": [
    "pk.rename(index=str, columns={'lawenforcementagency' : 'agency' , 'raceethnicity' : 'race'}, inplace=True)"
   ]
  },
  {
   "cell_type": "markdown",
   "metadata": {
    "collapsed": true
   },
   "source": [
    "### 2. Show the count of missing values in each column"
   ]
  },
  {
   "cell_type": "code",
   "execution_count": 4,
   "metadata": {},
   "outputs": [
    {
     "data": {
      "text/plain": [
       "name             0\n",
       "age              0\n",
       "gender           0\n",
       "race             0\n",
       "month            0\n",
       "day              0\n",
       "year             0\n",
       "streetaddress    4\n",
       "city             0\n",
       "state            0\n",
       "agency           0\n",
       "cause            0\n",
       "armed            0\n",
       "county_income    0\n",
       "dtype: int64"
      ]
     },
     "execution_count": 4,
     "metadata": {},
     "output_type": "execute_result"
    }
   ],
   "source": [
    "pk.isnull().sum()"
   ]
  },
  {
   "cell_type": "markdown",
   "metadata": {
    "collapsed": true
   },
   "source": [
    "### 3. Replace each null/missing value in the dataframe with the string \"unknown\""
   ]
  },
  {
   "cell_type": "code",
   "execution_count": 5,
   "metadata": {},
   "outputs": [],
   "source": [
    "pk.fillna('unknown', inplace=True)"
   ]
  },
  {
   "cell_type": "markdown",
   "metadata": {
    "collapsed": true
   },
   "source": [
    "### 4. How many killings were there in March and April?"
   ]
  },
  {
   "cell_type": "code",
   "execution_count": 6,
   "metadata": {
    "scrolled": true
   },
   "outputs": [
    {
     "data": {
      "text/plain": [
       "210"
      ]
     },
     "execution_count": 6,
     "metadata": {},
     "output_type": "execute_result"
    }
   ],
   "source": [
    "(pk.month.str.contains('March') | pk.month.str.contains('April')).sum()"
   ]
  },
  {
   "cell_type": "markdown",
   "metadata": {
    "collapsed": true
   },
   "source": [
    "### 5. How many male and how many female victims are there?"
   ]
  },
  {
   "cell_type": "code",
   "execution_count": 7,
   "metadata": {},
   "outputs": [
    {
     "data": {
      "text/plain": [
       "Male      445\n",
       "Female     22\n",
       "Name: gender, dtype: int64"
      ]
     },
     "execution_count": 7,
     "metadata": {},
     "output_type": "execute_result"
    }
   ],
   "source": [
    "pk.gender.value_counts()"
   ]
  },
  {
   "cell_type": "markdown",
   "metadata": {
    "collapsed": true
   },
   "source": [
    "### 6. How many killings were of unarmed people?"
   ]
  },
  {
   "cell_type": "code",
   "execution_count": 8,
   "metadata": {},
   "outputs": [
    {
     "data": {
      "text/plain": [
       "116"
      ]
     },
     "execution_count": 8,
     "metadata": {},
     "output_type": "execute_result"
    }
   ],
   "source": [
    "pk.armed.str.contains('No').sum()"
   ]
  },
  {
   "cell_type": "markdown",
   "metadata": {
    "collapsed": true
   },
   "source": [
    "### 7. What percentage of all killings were unarmed?"
   ]
  },
  {
   "cell_type": "code",
   "execution_count": 108,
   "metadata": {},
   "outputs": [
    {
     "data": {
      "text/plain": [
       "21.84"
      ]
     },
     "execution_count": 108,
     "metadata": {},
     "output_type": "execute_result"
    }
   ],
   "source": [
    "round(float(pk.armed[pk.armed == 'No'].count()) / len(pk)*100,2)"
   ]
  },
  {
   "cell_type": "code",
   "execution_count": 99,
   "metadata": {},
   "outputs": [
    {
     "data": {
      "text/plain": [
       "Firearm               230\n",
       "No                    102\n",
       "Knife                  68\n",
       "Other                  26\n",
       "Vehicle                18\n",
       "Non-lethal firearm     14\n",
       "Unknown                 7\n",
       "Disputed                2\n",
       "Name: armed, dtype: int64"
      ]
     },
     "execution_count": 99,
     "metadata": {},
     "output_type": "execute_result"
    }
   ],
   "source": [
    "pk.armed.value_counts()"
   ]
  },
  {
   "cell_type": "markdown",
   "metadata": {
    "collapsed": true
   },
   "source": [
    "### 8. What are the 5 states with the most killings?"
   ]
  },
  {
   "cell_type": "code",
   "execution_count": 10,
   "metadata": {},
   "outputs": [
    {
     "data": {
      "text/plain": [
       "CA    74\n",
       "TX    46\n",
       "FL    29\n",
       "AZ    25\n",
       "OK    22\n",
       "Name: state, dtype: int64"
      ]
     },
     "execution_count": 10,
     "metadata": {},
     "output_type": "execute_result"
    }
   ],
   "source": [
    "pk.state.value_counts().sort_values(axis=0, ascending=False).head()"
   ]
  },
  {
   "cell_type": "markdown",
   "metadata": {
    "collapsed": true
   },
   "source": [
    "### 9. Show a value counts of deaths for each race"
   ]
  },
  {
   "cell_type": "code",
   "execution_count": 11,
   "metadata": {},
   "outputs": [
    {
     "data": {
      "text/plain": [
       "White                     236\n",
       "Black                     135\n",
       "Hispanic/Latino            67\n",
       "Unknown                    15\n",
       "Asian/Pacific Islander     10\n",
       "Native American             4\n",
       "Name: race, dtype: int64"
      ]
     },
     "execution_count": 11,
     "metadata": {},
     "output_type": "execute_result"
    }
   ],
   "source": [
    "pk.race.value_counts()"
   ]
  },
  {
   "cell_type": "markdown",
   "metadata": {
    "collapsed": true
   },
   "source": [
    "### 10. Display a histogram of ages of all killings"
   ]
  },
  {
   "cell_type": "code",
   "execution_count": 12,
   "metadata": {
    "scrolled": true
   },
   "outputs": [
    {
     "data": {
      "text/plain": [
       "(array([  58.,   98.,  114.,   76.,   51.,   36.,   21.,    7.,    4.,    2.]),\n",
       " array([ 16. ,  23.1,  30.2,  37.3,  44.4,  51.5,  58.6,  65.7,  72.8,\n",
       "         79.9,  87. ]),\n",
       " <a list of 10 Patch objects>)"
      ]
     },
     "execution_count": 12,
     "metadata": {},
     "output_type": "execute_result"
    },
    {
     "data": {
      "image/png": "[encoded data removed]",
      "text/plain": [
       "<matplotlib.figure.Figure at 0xd8af7f0>"
      ]
     },
     "metadata": {},
     "output_type": "display_data"
    }
   ],
   "source": [
    "plt.hist(pk.age)"
   ]
  },
  {
   "cell_type": "markdown",
   "metadata": {
    "collapsed": true
   },
   "source": [
    "### 11. Show histogram of ages for each race"
   ]
  },
  {
   "cell_type": "code",
   "execution_count": 128,
   "metadata": {
    "scrolled": false
   },
   "outputs": [
    {
     "data": {
      "text/plain": [
       "race\n",
       "Asian/Pacific Islander    [[AxesSubplot(0.125,0.125;0.775x0.755)]]\n",
       "Black                     [[AxesSubplot(0.125,0.125;0.775x0.755)]]\n",
       "Hispanic/Latino           [[AxesSubplot(0.125,0.125;0.775x0.755)]]\n",
       "Native American           [[AxesSubplot(0.125,0.125;0.775x0.755)]]\n",
       "Unknown                   [[AxesSubplot(0.125,0.125;0.775x0.755)]]\n",
       "White                     [[AxesSubplot(0.125,0.125;0.775x0.755)]]\n",
       "dtype: object"
      ]
     },
     "execution_count": 128,
     "metadata": {},
     "output_type": "execute_result"
    },
    {
     "data": {
      "image/png": "[encoded data removed]",
      "text/plain": [
       "<matplotlib.figure.Figure at 0x27764d30>"
      ]
     },
     "metadata": {},
     "output_type": "display_data"
    },
    {
     "data": {
      "image/png": "[encoded data removed]",
      "text/plain": [
       "<matplotlib.figure.Figure at 0x271ed4a8>"
      ]
     },
     "metadata": {},
     "output_type": "display_data"
    },
    {
     "data": {
      "image/png": "[encoded data removed]",
      "text/plain": [
       "<matplotlib.figure.Figure at 0x27a5d710>"
      ]
     },
     "metadata": {},
     "output_type": "display_data"
    },
    {
     "data": {
      "image/png": "[encoded data removed]",
      "text/plain": [
       "<matplotlib.figure.Figure at 0x27b4e978>"
      ]
     },
     "metadata": {},
     "output_type": "display_data"
    },
    {
     "data": {
      "image/png": "[encoded data removed]",
      "text/plain": [
       "<matplotlib.figure.Figure at 0x27bf0780>"
      ]
     },
     "metadata": {},
     "output_type": "display_data"
    },
    {
     "data": {
      "image/png": "[encoded data removed]",
      "text/plain": [
       "<matplotlib.figure.Figure at 0x27d23dd8>"
      ]
     },
     "metadata": {},
     "output_type": "display_data"
    }
   ],
   "source": [
    "ra = pk[['race','age']]\n",
    "ra.groupby('race').hist(subplots=True)"
   ]
  },
  {
   "cell_type": "markdown",
   "metadata": {
    "collapsed": true
   },
   "source": [
    "### 12. What is the average age of death by race?"
   ]
  },
  {
   "cell_type": "code",
   "execution_count": 14,
   "metadata": {},
   "outputs": [
    {
     "data": {
      "text/plain": [
       "race\n",
       "Asian/Pacific Islander    40.800000\n",
       "Black                     34.044444\n",
       "Hispanic/Latino           31.716418\n",
       "Native American           27.750000\n",
       "Unknown                   43.533333\n",
       "White                     40.466102\n",
       "Name: age, dtype: float64"
      ]
     },
     "execution_count": 14,
     "metadata": {},
     "output_type": "execute_result"
    }
   ],
   "source": [
    "pk.groupby('race').age.mean()"
   ]
  },
  {
   "cell_type": "markdown",
   "metadata": {
    "collapsed": true
   },
   "source": [
    "### 13. Show a bar chart with counts of deaths every month"
   ]
  },
  {
   "cell_type": "code",
   "execution_count": 15,
   "metadata": {},
   "outputs": [
    {
     "data": {
      "text/plain": [
       "<Container object of 6 artists>"
      ]
     },
     "execution_count": 15,
     "metadata": {},
     "output_type": "execute_result"
    },
    {
     "data": {
      "image/png": "[encoded data removed]",
      "text/plain": [
       "<matplotlib.figure.Figure at 0xdc950f0>"
      ]
     },
     "metadata": {},
     "output_type": "display_data"
    }
   ],
   "source": [
    "counts_by_month = pk.month.value_counts()\n",
    "p = np.arange(counts_by_month.size)\n",
    "w = 0.4\n",
    "plt.bar(x=p, width=w, height=counts_by_month, tick_label=counts_by_month.index)"
   ]
  },
  {
   "cell_type": "markdown",
   "metadata": {},
   "source": [
    "## Section 2: College Majors"
   ]
  },
  {
   "cell_type": "code",
   "execution_count": 16,
   "metadata": {},
   "outputs": [
    {
     "data": {
      "text/html": [
       "<div>\n",
       "<style>\n",
       "    .dataframe thead tr:only-child th {\n",
       "        text-align: right;\n",
       "    }\n",
       "\n",
       "    .dataframe thead th {\n",
       "        text-align: left;\n",
       "    }\n",
       "\n",
       "    .dataframe tbody tr th {\n",
       "        vertical-align: top;\n",
       "    }\n",
       "</style>\n",
       "<table border=\"1\" class=\"dataframe\">\n",
       "  <thead>\n",
       "    <tr style=\"text-align: right;\">\n",
       "      <th></th>\n",
       "      <th>Major_code</th>\n",
       "      <th>Major</th>\n",
       "      <th>Major_category</th>\n",
       "      <th>Total</th>\n",
       "      <th>Employed</th>\n",
       "      <th>Employed_full_time_year_round</th>\n",
       "      <th>Unemployed</th>\n",
       "      <th>Unemployment_rate</th>\n",
       "      <th>Median</th>\n",
       "      <th>P25th</th>\n",
       "      <th>P75th</th>\n",
       "    </tr>\n",
       "  </thead>\n",
       "  <tbody>\n",
       "    <tr>\n",
       "      <th>0</th>\n",
       "      <td>1100</td>\n",
       "      <td>GENERAL AGRICULTURE</td>\n",
       "      <td>Agriculture &amp; Natural Resources</td>\n",
       "      <td>128148</td>\n",
       "      <td>90245</td>\n",
       "      <td>74078</td>\n",
       "      <td>2423</td>\n",
       "      <td>0.026147</td>\n",
       "      <td>50000</td>\n",
       "      <td>34000</td>\n",
       "      <td>80000.0</td>\n",
       "    </tr>\n",
       "    <tr>\n",
       "      <th>1</th>\n",
       "      <td>1101</td>\n",
       "      <td>AGRICULTURE PRODUCTION AND MANAGEMENT</td>\n",
       "      <td>Agriculture &amp; Natural Resources</td>\n",
       "      <td>95326</td>\n",
       "      <td>76865</td>\n",
       "      <td>64240</td>\n",
       "      <td>2266</td>\n",
       "      <td>0.028636</td>\n",
       "      <td>54000</td>\n",
       "      <td>36000</td>\n",
       "      <td>80000.0</td>\n",
       "    </tr>\n",
       "    <tr>\n",
       "      <th>2</th>\n",
       "      <td>1102</td>\n",
       "      <td>AGRICULTURAL ECONOMICS</td>\n",
       "      <td>Agriculture &amp; Natural Resources</td>\n",
       "      <td>33955</td>\n",
       "      <td>26321</td>\n",
       "      <td>22810</td>\n",
       "      <td>821</td>\n",
       "      <td>0.030248</td>\n",
       "      <td>63000</td>\n",
       "      <td>40000</td>\n",
       "      <td>98000.0</td>\n",
       "    </tr>\n",
       "    <tr>\n",
       "      <th>3</th>\n",
       "      <td>1103</td>\n",
       "      <td>ANIMAL SCIENCES</td>\n",
       "      <td>Agriculture &amp; Natural Resources</td>\n",
       "      <td>103549</td>\n",
       "      <td>81177</td>\n",
       "      <td>64937</td>\n",
       "      <td>3619</td>\n",
       "      <td>0.042679</td>\n",
       "      <td>46000</td>\n",
       "      <td>30000</td>\n",
       "      <td>72000.0</td>\n",
       "    </tr>\n",
       "    <tr>\n",
       "      <th>4</th>\n",
       "      <td>1104</td>\n",
       "      <td>FOOD SCIENCE</td>\n",
       "      <td>Agriculture &amp; Natural Resources</td>\n",
       "      <td>24280</td>\n",
       "      <td>17281</td>\n",
       "      <td>12722</td>\n",
       "      <td>894</td>\n",
       "      <td>0.049188</td>\n",
       "      <td>62000</td>\n",
       "      <td>38500</td>\n",
       "      <td>90000.0</td>\n",
       "    </tr>\n",
       "  </tbody>\n",
       "</table>\n",
       "</div>"
      ],
      "text/plain": [
       "   Major_code                                  Major  \\\n",
       "0        1100                    GENERAL AGRICULTURE   \n",
       "1        1101  AGRICULTURE PRODUCTION AND MANAGEMENT   \n",
       "2        1102                 AGRICULTURAL ECONOMICS   \n",
       "3        1103                        ANIMAL SCIENCES   \n",
       "4        1104                           FOOD SCIENCE   \n",
       "\n",
       "                    Major_category   Total  Employed  \\\n",
       "0  Agriculture & Natural Resources  128148     90245   \n",
       "1  Agriculture & Natural Resources   95326     76865   \n",
       "2  Agriculture & Natural Resources   33955     26321   \n",
       "3  Agriculture & Natural Resources  103549     81177   \n",
       "4  Agriculture & Natural Resources   24280     17281   \n",
       "\n",
       "   Employed_full_time_year_round  Unemployed  Unemployment_rate  Median  \\\n",
       "0                          74078        2423           0.026147   50000   \n",
       "1                          64240        2266           0.028636   54000   \n",
       "2                          22810         821           0.030248   63000   \n",
       "3                          64937        3619           0.042679   46000   \n",
       "4                          12722         894           0.049188   62000   \n",
       "\n",
       "   P25th    P75th  \n",
       "0  34000  80000.0  \n",
       "1  36000  80000.0  \n",
       "2  40000  98000.0  \n",
       "3  30000  72000.0  \n",
       "4  38500  90000.0  "
      ]
     },
     "execution_count": 16,
     "metadata": {},
     "output_type": "execute_result"
    }
   ],
   "source": [
    "majors = pd.read_csv('C:\\Users\\seanm\\Documents\\GitHub\\DS-SF-41\\data\\college-majors.csv', index_col=[0])\n",
    "majors.head()"
   ]
  },
  {
   "cell_type": "markdown",
   "metadata": {},
   "source": [
    "### 1. Delete the columns (employed_full_time_year_round, major_code)\n"
   ]
  },
  {
   "cell_type": "code",
   "execution_count": 17,
   "metadata": {},
   "outputs": [],
   "source": [
    "majors.drop(['Employed_full_time_year_round','Major_code'], axis=1, inplace=True)"
   ]
  },
  {
   "cell_type": "code",
   "execution_count": 18,
   "metadata": {},
   "outputs": [
    {
     "name": "stdout",
     "output_type": "stream",
     "text": [
      "<class 'pandas.core.frame.DataFrame'>\n",
      "Int64Index: 173 entries, 0 to 172\n",
      "Data columns (total 9 columns):\n",
      "Major                173 non-null object\n",
      "Major_category       173 non-null object\n",
      "Total                173 non-null int64\n",
      "Employed             173 non-null int64\n",
      "Unemployed           173 non-null int64\n",
      "Unemployment_rate    173 non-null float64\n",
      "Median               173 non-null int64\n",
      "P25th                173 non-null int64\n",
      "P75th                173 non-null float64\n",
      "dtypes: float64(2), int64(5), object(2)\n",
      "memory usage: 13.5+ KB\n"
     ]
    }
   ],
   "source": [
    "majors.info()"
   ]
  },
  {
   "cell_type": "markdown",
   "metadata": {
    "collapsed": true
   },
   "source": [
    "### 2. Show the count of missing values in each column"
   ]
  },
  {
   "cell_type": "code",
   "execution_count": 19,
   "metadata": {
    "scrolled": true
   },
   "outputs": [
    {
     "data": {
      "text/plain": [
       "Major                0\n",
       "Major_category       0\n",
       "Total                0\n",
       "Employed             0\n",
       "Unemployed           0\n",
       "Unemployment_rate    0\n",
       "Median               0\n",
       "P25th                0\n",
       "P75th                0\n",
       "dtype: int64"
      ]
     },
     "execution_count": 19,
     "metadata": {},
     "output_type": "execute_result"
    }
   ],
   "source": [
    "majors.isnull().sum()"
   ]
  },
  {
   "cell_type": "markdown",
   "metadata": {},
   "source": [
    "### 3. What are the top 10 highest paying majors?"
   ]
  },
  {
   "cell_type": "code",
   "execution_count": 20,
   "metadata": {},
   "outputs": [
    {
     "data": {
      "text/html": [
       "<div>\n",
       "<style>\n",
       "    .dataframe thead tr:only-child th {\n",
       "        text-align: right;\n",
       "    }\n",
       "\n",
       "    .dataframe thead th {\n",
       "        text-align: left;\n",
       "    }\n",
       "\n",
       "    .dataframe tbody tr th {\n",
       "        vertical-align: top;\n",
       "    }\n",
       "</style>\n",
       "<table border=\"1\" class=\"dataframe\">\n",
       "  <thead>\n",
       "    <tr style=\"text-align: right;\">\n",
       "      <th></th>\n",
       "      <th>Major</th>\n",
       "      <th>P75th</th>\n",
       "    </tr>\n",
       "  </thead>\n",
       "  <tbody>\n",
       "    <tr>\n",
       "      <th>59</th>\n",
       "      <td>PETROLEUM ENGINEERING</td>\n",
       "      <td>210000.0</td>\n",
       "    </tr>\n",
       "    <tr>\n",
       "      <th>97</th>\n",
       "      <td>MATHEMATICS AND COMPUTER SCIENCE</td>\n",
       "      <td>136000.0</td>\n",
       "    </tr>\n",
       "    <tr>\n",
       "      <th>58</th>\n",
       "      <td>NUCLEAR ENGINEERING</td>\n",
       "      <td>128000.0</td>\n",
       "    </tr>\n",
       "    <tr>\n",
       "      <th>154</th>\n",
       "      <td>PHARMACY PHARMACEUTICAL SCIENCES AND ADMINISTR...</td>\n",
       "      <td>125000.0</td>\n",
       "    </tr>\n",
       "    <tr>\n",
       "      <th>51</th>\n",
       "      <td>GEOLOGICAL AND GEOPHYSICAL ENGINEERING</td>\n",
       "      <td>125000.0</td>\n",
       "    </tr>\n",
       "    <tr>\n",
       "      <th>57</th>\n",
       "      <td>NAVAL ARCHITECTURE AND MARINE ENGINEERING</td>\n",
       "      <td>125000.0</td>\n",
       "    </tr>\n",
       "    <tr>\n",
       "      <th>56</th>\n",
       "      <td>MINING AND MINERAL ENGINEERING</td>\n",
       "      <td>124000.0</td>\n",
       "    </tr>\n",
       "    <tr>\n",
       "      <th>55</th>\n",
       "      <td>METALLURGICAL ENGINEERING</td>\n",
       "      <td>123000.0</td>\n",
       "    </tr>\n",
       "    <tr>\n",
       "      <th>45</th>\n",
       "      <td>CHEMICAL ENGINEERING</td>\n",
       "      <td>120000.0</td>\n",
       "    </tr>\n",
       "    <tr>\n",
       "      <th>48</th>\n",
       "      <td>ELECTRICAL ENGINEERING</td>\n",
       "      <td>116000.0</td>\n",
       "    </tr>\n",
       "  </tbody>\n",
       "</table>\n",
       "</div>"
      ],
      "text/plain": [
       "                                                 Major     P75th\n",
       "59                               PETROLEUM ENGINEERING  210000.0\n",
       "97                    MATHEMATICS AND COMPUTER SCIENCE  136000.0\n",
       "58                                 NUCLEAR ENGINEERING  128000.0\n",
       "154  PHARMACY PHARMACEUTICAL SCIENCES AND ADMINISTR...  125000.0\n",
       "51              GEOLOGICAL AND GEOPHYSICAL ENGINEERING  125000.0\n",
       "57           NAVAL ARCHITECTURE AND MARINE ENGINEERING  125000.0\n",
       "56                      MINING AND MINERAL ENGINEERING  124000.0\n",
       "55                           METALLURGICAL ENGINEERING  123000.0\n",
       "45                                CHEMICAL ENGINEERING  120000.0\n",
       "48                              ELECTRICAL ENGINEERING  116000.0"
      ]
     },
     "execution_count": 20,
     "metadata": {},
     "output_type": "execute_result"
    }
   ],
   "source": [
    "majors[['Major','P75th']].sort_values(by='P75th', axis=0, ascending=False).head(10)"
   ]
  },
  {
   "cell_type": "markdown",
   "metadata": {},
   "source": [
    "### 4. Plot the data from the last question in a bar chart, include proper title, and labels\n"
   ]
  },
  {
   "cell_type": "code",
   "execution_count": 54,
   "metadata": {},
   "outputs": [
    {
     "data": {
      "text/plain": [
       "<matplotlib.axes._subplots.AxesSubplot at 0x12bd4940>"
      ]
     },
     "execution_count": 54,
     "metadata": {},
     "output_type": "execute_result"
    },
    {
     "data": {
      "image/png": "[encoded data removed]",
      "text/plain": [
       "<matplotlib.figure.Figure at 0x12d37470>"
      ]
     },
     "metadata": {},
     "output_type": "display_data"
    }
   ],
   "source": [
    "top_ten = majors[['Major','P75th']].sort_values(by='P75th', axis=0, ascending=False).head(10)\n",
    "\n",
    "top_ten.plot(x='Major', kind='bar', figsize=(15,6), title='Top 10 Highest Paying Majors')"
   ]
  },
  {
   "cell_type": "markdown",
   "metadata": {
    "collapsed": true
   },
   "source": [
    "### 5. What is the average median salary for each major category?"
   ]
  },
  {
   "cell_type": "code",
   "execution_count": 21,
   "metadata": {
    "scrolled": true
   },
   "outputs": [
    {
     "data": {
      "text/plain": [
       "Major_category\n",
       "Agriculture & Natural Resources        55000.000000\n",
       "Arts                                   43525.000000\n",
       "Biology & Life Science                 50821.428571\n",
       "Business                               60615.384615\n",
       "Communications & Journalism            49500.000000\n",
       "Computers & Mathematics                66272.727273\n",
       "Education                              43831.250000\n",
       "Engineering                            77758.620690\n",
       "Health                                 56458.333333\n",
       "Humanities & Liberal Arts              46080.000000\n",
       "Industrial Arts & Consumer Services    52642.857143\n",
       "Interdisciplinary                      43000.000000\n",
       "Law & Public Policy                    52800.000000\n",
       "Physical Sciences                      62400.000000\n",
       "Psychology & Social Work               44555.555556\n",
       "Social Science                         53222.222222\n",
       "Name: Median, dtype: float64"
      ]
     },
     "execution_count": 21,
     "metadata": {},
     "output_type": "execute_result"
    }
   ],
   "source": [
    "majors.groupby('Major_category').Median.mean()"
   ]
  },
  {
   "cell_type": "markdown",
   "metadata": {
    "collapsed": true
   },
   "source": [
    "### 6. Visualize only the top 5 paying major categories"
   ]
  },
  {
   "cell_type": "code",
   "execution_count": 144,
   "metadata": {},
   "outputs": [
    {
     "data": {
      "text/plain": [
       "<Container object of 5 artists>"
      ]
     },
     "execution_count": 144,
     "metadata": {},
     "output_type": "execute_result"
    },
    {
     "data": {
      "image/png": "[encoded data removed]",
      "text/plain": [
       "<matplotlib.figure.Figure at 0x28663b38>"
      ]
     },
     "metadata": {},
     "output_type": "display_data"
    }
   ],
   "source": [
    "top_5_cat = majors[['Major_category','P75th']].groupby('Major_category').P75th.mean().sort_values(axis=0, ascending=False).head(5)\n",
    "pos = np.arange(top_5_cat.size)\n",
    "w=0.4\n",
    "plt.barh(y=pos, width=top_5_cat, height=w, tick_label=top_5_cat.index, align=\"center\")"
   ]
  },
  {
   "cell_type": "markdown",
   "metadata": {
    "collapsed": true
   },
   "source": [
    "### 7. Plot a histogram of the distribution of median salaries"
   ]
  },
  {
   "cell_type": "code",
   "execution_count": 157,
   "metadata": {},
   "outputs": [
    {
     "data": {
      "text/plain": [
       "<matplotlib.axes._subplots.AxesSubplot at 0x286a3da0>"
      ]
     },
     "execution_count": 157,
     "metadata": {},
     "output_type": "execute_result"
    },
    {
     "data": {
      "image/png": "[encoded data removed]",
      "text/plain": [
       "<matplotlib.figure.Figure at 0x283c2908>"
      ]
     },
     "metadata": {},
     "output_type": "display_data"
    }
   ],
   "source": [
    "majors.Median.plot(kind='hist')"
   ]
  },
  {
   "cell_type": "markdown",
   "metadata": {
    "collapsed": true
   },
   "source": [
    "### 8. Plot a histogram of the distribution of median salaries by major category"
   ]
  },
  {
   "cell_type": "code",
   "execution_count": 159,
   "metadata": {},
   "outputs": [
    {
     "data": {
      "image/png": "[encoded data removed]",
      "text/plain": [
       "<matplotlib.figure.Figure at 0x2a96cda0>"
      ]
     },
     "metadata": {},
     "output_type": "display_data"
    },
    {
     "data": {
      "image/png": "[encoded data removed]",
      "text/plain": [
       "<matplotlib.figure.Figure at 0x29cd37f0>"
      ]
     },
     "metadata": {},
     "output_type": "display_data"
    },
    {
     "data": {
      "image/png": "[encoded data removed]",
      "text/plain": [
       "<matplotlib.figure.Figure at 0x2aca8a58>"
      ]
     },
     "metadata": {},
     "output_type": "display_data"
    },
    {
     "data": {
      "image/png": "[encoded data removed]",
      "text/plain": [
       "<matplotlib.figure.Figure at 0x2ad97cc0>"
      ]
     },
     "metadata": {},
     "output_type": "display_data"
    },
    {
     "data": {
      "image/png": "[encoded data removed]",
      "text/plain": [
       "<matplotlib.figure.Figure at 0x2ae7aac8>"
      ]
     },
     "metadata": {},
     "output_type": "display_data"
    },
    {
     "data": {
      "image/png": "[encoded data removed]",
      "text/plain": [
       "<matplotlib.figure.Figure at 0x2afcf1d0>"
      ]
     },
     "metadata": {},
     "output_type": "display_data"
    },
    {
     "data": {
      "image/png": "[encoded data removed]",
      "text/plain": [
       "<matplotlib.figure.Figure at 0x2b0bc978>"
      ]
     },
     "metadata": {},
     "output_type": "display_data"
    },
    {
     "data": {
      "image/png": "[encoded data removed]",
      "text/plain": [
       "<matplotlib.figure.Figure at 0x2b1a4400>"
      ]
     },
     "metadata": {},
     "output_type": "display_data"
    },
    {
     "data": {
      "image/png": "[encoded data removed]",
      "text/plain": [
       "<matplotlib.figure.Figure at 0x2b2a7668>"
      ]
     },
     "metadata": {},
     "output_type": "display_data"
    },
    {
     "data": {
      "image/png": "[encoded data removed]",
      "text/plain": [
       "<matplotlib.figure.Figure at 0x2b391d30>"
      ]
     },
     "metadata": {},
     "output_type": "display_data"
    },
    {
     "data": {
      "image/png": "[encoded data removed]",
      "text/plain": [
       "<matplotlib.figure.Figure at 0x2b47bcf8>"
      ]
     },
     "metadata": {},
     "output_type": "display_data"
    },
    {
     "data": {
      "image/png": "[encoded data removed]",
      "text/plain": [
       "<matplotlib.figure.Figure at 0x2b4f9dd8>"
      ]
     },
     "metadata": {},
     "output_type": "display_data"
    },
    {
     "data": {
      "image/png": "[encoded data removed]",
      "text/plain": [
       "<matplotlib.figure.Figure at 0x2b6b8128>"
      ]
     },
     "metadata": {},
     "output_type": "display_data"
    },
    {
     "data": {
      "image/png": "[encoded data removed]",
      "text/plain": [
       "<matplotlib.figure.Figure at 0x2b681208>"
      ]
     },
     "metadata": {},
     "output_type": "display_data"
    },
    {
     "data": {
      "image/png": "[encoded data removed]",
      "text/plain": [
       "<matplotlib.figure.Figure at 0x2b88c668>"
      ]
     },
     "metadata": {},
     "output_type": "display_data"
    },
    {
     "data": {
      "image/png": "[encoded data removed]",
      "text/plain": [
       "<matplotlib.figure.Figure at 0x2b9398d0>"
      ]
     },
     "metadata": {},
     "output_type": "display_data"
    }
   ],
   "source": [
    "ms = majors[['Major_category','Median']]\n",
    "ms.groupby('Major_category').hist(subplots=True)\n",
    "plt.tight_layout()"
   ]
  },
  {
   "cell_type": "markdown",
   "metadata": {},
   "source": [
    "### 9. What are the top 10 most UNemployed majors?"
   ]
  },
  {
   "cell_type": "code",
   "execution_count": 23,
   "metadata": {},
   "outputs": [
    {
     "data": {
      "text/html": [
       "<div>\n",
       "<style>\n",
       "    .dataframe thead tr:only-child th {\n",
       "        text-align: right;\n",
       "    }\n",
       "\n",
       "    .dataframe thead th {\n",
       "        text-align: left;\n",
       "    }\n",
       "\n",
       "    .dataframe tbody tr th {\n",
       "        vertical-align: top;\n",
       "    }\n",
       "</style>\n",
       "<table border=\"1\" class=\"dataframe\">\n",
       "  <thead>\n",
       "    <tr style=\"text-align: right;\">\n",
       "      <th></th>\n",
       "      <th>Major</th>\n",
       "      <th>Unemployment_rate</th>\n",
       "    </tr>\n",
       "  </thead>\n",
       "  <tbody>\n",
       "    <tr>\n",
       "      <th>146</th>\n",
       "      <td>MISCELLANEOUS FINE ARTS</td>\n",
       "      <td>0.156147</td>\n",
       "    </tr>\n",
       "    <tr>\n",
       "      <th>116</th>\n",
       "      <td>CLINICAL PSYCHOLOGY</td>\n",
       "      <td>0.102712</td>\n",
       "    </tr>\n",
       "    <tr>\n",
       "      <th>93</th>\n",
       "      <td>MILITARY TECHNOLOGIES</td>\n",
       "      <td>0.101796</td>\n",
       "    </tr>\n",
       "    <tr>\n",
       "      <th>27</th>\n",
       "      <td>SCHOOL STUDENT COUNSELING</td>\n",
       "      <td>0.101746</td>\n",
       "    </tr>\n",
       "    <tr>\n",
       "      <th>77</th>\n",
       "      <td>LIBRARY SCIENCE</td>\n",
       "      <td>0.094843</td>\n",
       "    </tr>\n",
       "    <tr>\n",
       "      <th>141</th>\n",
       "      <td>VISUAL AND PERFORMING ARTS</td>\n",
       "      <td>0.094658</td>\n",
       "    </tr>\n",
       "    <tr>\n",
       "      <th>19</th>\n",
       "      <td>COMPUTER PROGRAMMING AND DATA PROCESSING</td>\n",
       "      <td>0.090264</td>\n",
       "    </tr>\n",
       "    <tr>\n",
       "      <th>119</th>\n",
       "      <td>SOCIAL PSYCHOLOGY</td>\n",
       "      <td>0.087336</td>\n",
       "    </tr>\n",
       "    <tr>\n",
       "      <th>104</th>\n",
       "      <td>ASTRONOMY AND ASTROPHYSICS</td>\n",
       "      <td>0.086022</td>\n",
       "    </tr>\n",
       "    <tr>\n",
       "      <th>11</th>\n",
       "      <td>ARCHITECTURE</td>\n",
       "      <td>0.085991</td>\n",
       "    </tr>\n",
       "  </tbody>\n",
       "</table>\n",
       "</div>"
      ],
      "text/plain": [
       "                                        Major  Unemployment_rate\n",
       "146                   MISCELLANEOUS FINE ARTS           0.156147\n",
       "116                       CLINICAL PSYCHOLOGY           0.102712\n",
       "93                      MILITARY TECHNOLOGIES           0.101796\n",
       "27                  SCHOOL STUDENT COUNSELING           0.101746\n",
       "77                            LIBRARY SCIENCE           0.094843\n",
       "141                VISUAL AND PERFORMING ARTS           0.094658\n",
       "19   COMPUTER PROGRAMMING AND DATA PROCESSING           0.090264\n",
       "119                         SOCIAL PSYCHOLOGY           0.087336\n",
       "104                ASTRONOMY AND ASTROPHYSICS           0.086022\n",
       "11                               ARCHITECTURE           0.085991"
      ]
     },
     "execution_count": 23,
     "metadata": {},
     "output_type": "execute_result"
    }
   ],
   "source": [
    "#unemployment rate\n",
    "majors[['Major','Unemployment_rate']].sort_values(by='Unemployment_rate', axis=0, ascending=False).head(10)"
   ]
  },
  {
   "cell_type": "code",
   "execution_count": 145,
   "metadata": {},
   "outputs": [
    {
     "data": {
      "text/html": [
       "<div>\n",
       "<style>\n",
       "    .dataframe thead tr:only-child th {\n",
       "        text-align: right;\n",
       "    }\n",
       "\n",
       "    .dataframe thead th {\n",
       "        text-align: left;\n",
       "    }\n",
       "\n",
       "    .dataframe tbody tr th {\n",
       "        vertical-align: top;\n",
       "    }\n",
       "</style>\n",
       "<table border=\"1\" class=\"dataframe\">\n",
       "  <thead>\n",
       "    <tr style=\"text-align: right;\">\n",
       "      <th></th>\n",
       "      <th>Major</th>\n",
       "      <th>Unemployed</th>\n",
       "    </tr>\n",
       "  </thead>\n",
       "  <tbody>\n",
       "    <tr>\n",
       "      <th>161</th>\n",
       "      <td>BUSINESS MANAGEMENT AND ADMINISTRATION</td>\n",
       "      <td>147261</td>\n",
       "    </tr>\n",
       "    <tr>\n",
       "      <th>158</th>\n",
       "      <td>GENERAL BUSINESS</td>\n",
       "      <td>85626</td>\n",
       "    </tr>\n",
       "    <tr>\n",
       "      <th>114</th>\n",
       "      <td>PSYCHOLOGY</td>\n",
       "      <td>79066</td>\n",
       "    </tr>\n",
       "    <tr>\n",
       "      <th>159</th>\n",
       "      <td>ACCOUNTING</td>\n",
       "      <td>75379</td>\n",
       "    </tr>\n",
       "    <tr>\n",
       "      <th>13</th>\n",
       "      <td>COMMUNICATIONS</td>\n",
       "      <td>54390</td>\n",
       "    </tr>\n",
       "    <tr>\n",
       "      <th>73</th>\n",
       "      <td>ENGLISH LANGUAGE AND LITERATURE</td>\n",
       "      <td>52248</td>\n",
       "    </tr>\n",
       "    <tr>\n",
       "      <th>164</th>\n",
       "      <td>MARKETING AND MARKETING RESEARCH</td>\n",
       "      <td>51839</td>\n",
       "    </tr>\n",
       "    <tr>\n",
       "      <th>132</th>\n",
       "      <td>POLITICAL SCIENCE AND GOVERNMENT</td>\n",
       "      <td>40376</td>\n",
       "    </tr>\n",
       "    <tr>\n",
       "      <th>25</th>\n",
       "      <td>GENERAL EDUCATION</td>\n",
       "      <td>38742</td>\n",
       "    </tr>\n",
       "    <tr>\n",
       "      <th>78</th>\n",
       "      <td>BIOLOGY</td>\n",
       "      <td>36757</td>\n",
       "    </tr>\n",
       "  </tbody>\n",
       "</table>\n",
       "</div>"
      ],
      "text/plain": [
       "                                      Major  Unemployed\n",
       "161  BUSINESS MANAGEMENT AND ADMINISTRATION      147261\n",
       "158                        GENERAL BUSINESS       85626\n",
       "114                              PSYCHOLOGY       79066\n",
       "159                              ACCOUNTING       75379\n",
       "13                           COMMUNICATIONS       54390\n",
       "73          ENGLISH LANGUAGE AND LITERATURE       52248\n",
       "164        MARKETING AND MARKETING RESEARCH       51839\n",
       "132        POLITICAL SCIENCE AND GOVERNMENT       40376\n",
       "25                        GENERAL EDUCATION       38742\n",
       "78                                  BIOLOGY       36757"
      ]
     },
     "execution_count": 145,
     "metadata": {},
     "output_type": "execute_result"
    }
   ],
   "source": [
    "#unemployed count\n",
    "majors[['Major','Unemployed']].sort_values(by='Unemployed', axis=0, ascending=False).head(10)"
   ]
  },
  {
   "cell_type": "markdown",
   "metadata": {
    "collapsed": true
   },
   "source": [
    "### 10. What are the top 10 most UNemployed majors CATEGORIES? Use the mean for each category"
   ]
  },
  {
   "cell_type": "code",
   "execution_count": 24,
   "metadata": {
    "scrolled": true
   },
   "outputs": [
    {
     "data": {
      "text/plain": [
       "Major_category\n",
       "Arts                           0.087601\n",
       "Psychology & Social Work       0.077867\n",
       "Interdisciplinary              0.077269\n",
       "Humanities & Liberal Arts      0.069429\n",
       "Communications & Journalism    0.069125\n",
       "Name: Unemployment_rate, dtype: float64"
      ]
     },
     "execution_count": 24,
     "metadata": {},
     "output_type": "execute_result"
    }
   ],
   "source": [
    "#unemployment rate\n",
    "majors.groupby(['Major_category'])['Unemployment_rate'].mean().sort_values(axis=0, ascending=False).head()"
   ]
  },
  {
   "cell_type": "code",
   "execution_count": 155,
   "metadata": {},
   "outputs": [
    {
     "data": {
      "text/plain": [
       "Major_category\n",
       "Business                       33415.153846\n",
       "Communications & Journalism    25299.750000\n",
       "Social Science                 14683.333333\n",
       "Arts                           13015.625000\n",
       "Humanities & Liberal Arts      11942.400000\n",
       "Name: Unemployed, dtype: float64"
      ]
     },
     "execution_count": 155,
     "metadata": {},
     "output_type": "execute_result"
    }
   ],
   "source": [
    "#unemployed count\n",
    "majors.groupby(['Major_category'])['Unemployed'].mean().sort_values(axis=0, ascending=False).head()"
   ]
  },
  {
   "cell_type": "markdown",
   "metadata": {},
   "source": [
    "## Section 3: FIFA Soccer Game data"
   ]
  },
  {
   "cell_type": "code",
   "execution_count": 177,
   "metadata": {},
   "outputs": [
    {
     "data": {
      "text/html": [
       "<div>\n",
       "<style>\n",
       "    .dataframe thead tr:only-child th {\n",
       "        text-align: right;\n",
       "    }\n",
       "\n",
       "    .dataframe thead th {\n",
       "        text-align: left;\n",
       "    }\n",
       "\n",
       "    .dataframe tbody tr th {\n",
       "        vertical-align: top;\n",
       "    }\n",
       "</style>\n",
       "<table border=\"1\" class=\"dataframe\">\n",
       "  <thead>\n",
       "    <tr style=\"text-align: right;\">\n",
       "      <th></th>\n",
       "      <th>Name</th>\n",
       "      <th>Nationality</th>\n",
       "      <th>National_Position</th>\n",
       "      <th>National_Kit</th>\n",
       "      <th>Club</th>\n",
       "      <th>Club_Position</th>\n",
       "      <th>Club_Kit</th>\n",
       "      <th>Club_Joining</th>\n",
       "      <th>Contract_Expiry</th>\n",
       "      <th>Rating</th>\n",
       "      <th>...</th>\n",
       "      <th>Long_Shots</th>\n",
       "      <th>Curve</th>\n",
       "      <th>Freekick_Accuracy</th>\n",
       "      <th>Penalties</th>\n",
       "      <th>Volleys</th>\n",
       "      <th>GK_Positioning</th>\n",
       "      <th>GK_Diving</th>\n",
       "      <th>GK_Kicking</th>\n",
       "      <th>GK_Handling</th>\n",
       "      <th>GK_Reflexes</th>\n",
       "    </tr>\n",
       "  </thead>\n",
       "  <tbody>\n",
       "    <tr>\n",
       "      <th>0</th>\n",
       "      <td>Cristiano Ronaldo</td>\n",
       "      <td>Portugal</td>\n",
       "      <td>LS</td>\n",
       "      <td>7.0</td>\n",
       "      <td>Real Madrid</td>\n",
       "      <td>LW</td>\n",
       "      <td>7.0</td>\n",
       "      <td>07/01/2009</td>\n",
       "      <td>2021.0</td>\n",
       "      <td>94</td>\n",
       "      <td>...</td>\n",
       "      <td>90</td>\n",
       "      <td>81</td>\n",
       "      <td>76</td>\n",
       "      <td>85</td>\n",
       "      <td>88</td>\n",
       "      <td>14</td>\n",
       "      <td>7</td>\n",
       "      <td>15</td>\n",
       "      <td>11</td>\n",
       "      <td>11</td>\n",
       "    </tr>\n",
       "    <tr>\n",
       "      <th>1</th>\n",
       "      <td>Lionel Messi</td>\n",
       "      <td>Argentina</td>\n",
       "      <td>RW</td>\n",
       "      <td>10.0</td>\n",
       "      <td>FC Barcelona</td>\n",
       "      <td>RW</td>\n",
       "      <td>10.0</td>\n",
       "      <td>07/01/2004</td>\n",
       "      <td>2018.0</td>\n",
       "      <td>93</td>\n",
       "      <td>...</td>\n",
       "      <td>88</td>\n",
       "      <td>89</td>\n",
       "      <td>90</td>\n",
       "      <td>74</td>\n",
       "      <td>85</td>\n",
       "      <td>14</td>\n",
       "      <td>6</td>\n",
       "      <td>15</td>\n",
       "      <td>11</td>\n",
       "      <td>8</td>\n",
       "    </tr>\n",
       "    <tr>\n",
       "      <th>2</th>\n",
       "      <td>Neymar</td>\n",
       "      <td>Brazil</td>\n",
       "      <td>LW</td>\n",
       "      <td>10.0</td>\n",
       "      <td>FC Barcelona</td>\n",
       "      <td>LW</td>\n",
       "      <td>11.0</td>\n",
       "      <td>07/01/2013</td>\n",
       "      <td>2021.0</td>\n",
       "      <td>92</td>\n",
       "      <td>...</td>\n",
       "      <td>77</td>\n",
       "      <td>79</td>\n",
       "      <td>84</td>\n",
       "      <td>81</td>\n",
       "      <td>83</td>\n",
       "      <td>15</td>\n",
       "      <td>9</td>\n",
       "      <td>15</td>\n",
       "      <td>9</td>\n",
       "      <td>11</td>\n",
       "    </tr>\n",
       "    <tr>\n",
       "      <th>3</th>\n",
       "      <td>Luis Suárez</td>\n",
       "      <td>Uruguay</td>\n",
       "      <td>LS</td>\n",
       "      <td>9.0</td>\n",
       "      <td>FC Barcelona</td>\n",
       "      <td>ST</td>\n",
       "      <td>9.0</td>\n",
       "      <td>07/11/2014</td>\n",
       "      <td>2021.0</td>\n",
       "      <td>92</td>\n",
       "      <td>...</td>\n",
       "      <td>86</td>\n",
       "      <td>86</td>\n",
       "      <td>84</td>\n",
       "      <td>85</td>\n",
       "      <td>88</td>\n",
       "      <td>33</td>\n",
       "      <td>27</td>\n",
       "      <td>31</td>\n",
       "      <td>25</td>\n",
       "      <td>37</td>\n",
       "    </tr>\n",
       "    <tr>\n",
       "      <th>4</th>\n",
       "      <td>Manuel Neuer</td>\n",
       "      <td>Germany</td>\n",
       "      <td>GK</td>\n",
       "      <td>1.0</td>\n",
       "      <td>FC Bayern</td>\n",
       "      <td>GK</td>\n",
       "      <td>1.0</td>\n",
       "      <td>07/01/2011</td>\n",
       "      <td>2021.0</td>\n",
       "      <td>92</td>\n",
       "      <td>...</td>\n",
       "      <td>16</td>\n",
       "      <td>14</td>\n",
       "      <td>11</td>\n",
       "      <td>47</td>\n",
       "      <td>11</td>\n",
       "      <td>91</td>\n",
       "      <td>89</td>\n",
       "      <td>95</td>\n",
       "      <td>90</td>\n",
       "      <td>89</td>\n",
       "    </tr>\n",
       "  </tbody>\n",
       "</table>\n",
       "<p>5 rows × 53 columns</p>\n",
       "</div>"
      ],
      "text/plain": [
       "                Name Nationality National_Position  National_Kit  \\\n",
       "0  Cristiano Ronaldo    Portugal                LS           7.0   \n",
       "1       Lionel Messi   Argentina                RW          10.0   \n",
       "2             Neymar      Brazil                LW          10.0   \n",
       "3        Luis Suárez     Uruguay                LS           9.0   \n",
       "4       Manuel Neuer     Germany                GK           1.0   \n",
       "\n",
       "           Club Club_Position  Club_Kit Club_Joining  Contract_Expiry  Rating  \\\n",
       "0   Real Madrid            LW       7.0   07/01/2009           2021.0      94   \n",
       "1  FC Barcelona            RW      10.0   07/01/2004           2018.0      93   \n",
       "2  FC Barcelona            LW      11.0   07/01/2013           2021.0      92   \n",
       "3  FC Barcelona            ST       9.0   07/11/2014           2021.0      92   \n",
       "4     FC Bayern            GK       1.0   07/01/2011           2021.0      92   \n",
       "\n",
       "      ...      Long_Shots Curve Freekick_Accuracy Penalties  Volleys  \\\n",
       "0     ...              90    81                76        85       88   \n",
       "1     ...              88    89                90        74       85   \n",
       "2     ...              77    79                84        81       83   \n",
       "3     ...              86    86                84        85       88   \n",
       "4     ...              16    14                11        47       11   \n",
       "\n",
       "  GK_Positioning GK_Diving  GK_Kicking  GK_Handling  GK_Reflexes  \n",
       "0             14         7          15           11           11  \n",
       "1             14         6          15           11            8  \n",
       "2             15         9          15            9           11  \n",
       "3             33        27          31           25           37  \n",
       "4             91        89          95           90           89  \n",
       "\n",
       "[5 rows x 53 columns]"
      ]
     },
     "execution_count": 177,
     "metadata": {},
     "output_type": "execute_result"
    }
   ],
   "source": [
    "fifa = pd.read_csv('../data/fifa_data.csv')\n",
    "fifa.head()"
   ]
  },
  {
   "cell_type": "markdown",
   "metadata": {},
   "source": [
    "### 1. Clean up the dataset.\n",
    "\n",
    "    - Lowercase the column names\n",
    "    - Set the \"name\" column as the index\n",
    "    - Drop the following columns \"national_position\", \"national_kit\", \"club_kit\", \"club_joining\", and \"contract_expiry\"\n",
    "    - Get rid of all players who are goalkeepers and drop every column that starts with GK\n",
    "    - Drop every player whose rating is less than 70\n",
    "    - Convert the \"height\" and \"weight\" columns to float types\n",
    "    - Check to see if there any nulls, if so drop them from the dataset"
   ]
  },
  {
   "cell_type": "code",
   "execution_count": 178,
   "metadata": {},
   "outputs": [],
   "source": [
    "# Lowercase the column names\n",
    "fifa.columns = map(str.lower, fifa.columns)"
   ]
  },
  {
   "cell_type": "code",
   "execution_count": 179,
   "metadata": {},
   "outputs": [],
   "source": [
    "# Set the \"name\" column as the index\n",
    "fifa.set_index('name', inplace=True)"
   ]
  },
  {
   "cell_type": "code",
   "execution_count": 180,
   "metadata": {
    "collapsed": true
   },
   "outputs": [],
   "source": [
    "# Drop the following columns \"national_position\", \"national_kit\", \"club_kit\", \"club_joining\", and \"contract_expiry\"\n",
    "fifa.drop([\"national_position\", \"national_kit\", \"club_kit\", \"club_joining\", \"contract_expiry\"], axis=1, inplace=True)"
   ]
  },
  {
   "cell_type": "code",
   "execution_count": 181,
   "metadata": {},
   "outputs": [],
   "source": [
    "# Get rid of all players who are goalkeepers and drop every column that starts with GK\n",
    "fifa = fifa[fifa.club_position != 'GK']"
   ]
  },
  {
   "cell_type": "code",
   "execution_count": 182,
   "metadata": {},
   "outputs": [],
   "source": [
    "fifa = fifa.drop([col for col in fifa.columns if 'gk_' in col],axis=1)"
   ]
  },
  {
   "cell_type": "code",
   "execution_count": 190,
   "metadata": {},
   "outputs": [],
   "source": [
    "#Drop every player whose rating is less than 70\n",
    "fifa = fifa[fifa.rating >= 70]"
   ]
  },
  {
   "cell_type": "code",
   "execution_count": 199,
   "metadata": {},
   "outputs": [
    {
     "ename": "ValueError",
     "evalue": "('Unable to parse string \"185 cm\" at position 0', u'occurred at index height')",
     "output_type": "error",
     "traceback": [
      "\u001b[1;31m\u001b[0m",
      "\u001b[1;31mValueError\u001b[0mTraceback (most recent call last)",
      "\u001b[1;32m<ipython-input-199-16289aa1afd3>\u001b[0m in \u001b[0;36m<module>\u001b[1;34m()\u001b[0m\n\u001b[0;32m      1\u001b[0m \u001b[1;31m#Convert the \"height\" and \"weight\" columns to float types\u001b[0m\u001b[1;33m\u001b[0m\u001b[1;33m\u001b[0m\u001b[0m\n\u001b[1;32m----> 2\u001b[1;33m \u001b[0mfifa\u001b[0m\u001b[1;33m[\u001b[0m\u001b[1;33m[\u001b[0m\u001b[1;34m'height'\u001b[0m\u001b[1;33m,\u001b[0m\u001b[1;34m'weight'\u001b[0m\u001b[1;33m]\u001b[0m\u001b[1;33m]\u001b[0m\u001b[1;33m=\u001b[0m \u001b[0mfifa\u001b[0m\u001b[1;33m[\u001b[0m\u001b[1;33m[\u001b[0m\u001b[1;34m'height'\u001b[0m\u001b[1;33m,\u001b[0m\u001b[1;34m'weight'\u001b[0m\u001b[1;33m]\u001b[0m\u001b[1;33m]\u001b[0m\u001b[1;33m.\u001b[0m\u001b[0mapply\u001b[0m\u001b[1;33m(\u001b[0m\u001b[0mpd\u001b[0m\u001b[1;33m.\u001b[0m\u001b[0mto_numeric\u001b[0m\u001b[1;33m)\u001b[0m\u001b[1;33m\u001b[0m\u001b[0m\n\u001b[0m",
      "\u001b[1;32mC:\\Users\\seanm\\Anaconda\\lib\\site-packages\\pandas\\core\\frame.pyc\u001b[0m in \u001b[0;36mapply\u001b[1;34m(self, func, axis, broadcast, raw, reduce, args, **kwds)\u001b[0m\n\u001b[0;32m   4260\u001b[0m                         \u001b[0mf\u001b[0m\u001b[1;33m,\u001b[0m \u001b[0maxis\u001b[0m\u001b[1;33m,\u001b[0m\u001b[1;33m\u001b[0m\u001b[0m\n\u001b[0;32m   4261\u001b[0m                         \u001b[0mreduce\u001b[0m\u001b[1;33m=\u001b[0m\u001b[0mreduce\u001b[0m\u001b[1;33m,\u001b[0m\u001b[1;33m\u001b[0m\u001b[0m\n\u001b[1;32m-> 4262\u001b[1;33m                         ignore_failures=ignore_failures)\n\u001b[0m\u001b[0;32m   4263\u001b[0m             \u001b[1;32melse\u001b[0m\u001b[1;33m:\u001b[0m\u001b[1;33m\u001b[0m\u001b[0m\n\u001b[0;32m   4264\u001b[0m                 \u001b[1;32mreturn\u001b[0m \u001b[0mself\u001b[0m\u001b[1;33m.\u001b[0m\u001b[0m_apply_broadcast\u001b[0m\u001b[1;33m(\u001b[0m\u001b[0mf\u001b[0m\u001b[1;33m,\u001b[0m \u001b[0maxis\u001b[0m\u001b[1;33m)\u001b[0m\u001b[1;33m\u001b[0m\u001b[0m\n",
      "\u001b[1;32mC:\\Users\\seanm\\Anaconda\\lib\\site-packages\\pandas\\core\\frame.pyc\u001b[0m in \u001b[0;36m_apply_standard\u001b[1;34m(self, func, axis, ignore_failures, reduce)\u001b[0m\n\u001b[0;32m   4356\u001b[0m             \u001b[1;32mtry\u001b[0m\u001b[1;33m:\u001b[0m\u001b[1;33m\u001b[0m\u001b[0m\n\u001b[0;32m   4357\u001b[0m                 \u001b[1;32mfor\u001b[0m \u001b[0mi\u001b[0m\u001b[1;33m,\u001b[0m \u001b[0mv\u001b[0m \u001b[1;32min\u001b[0m \u001b[0menumerate\u001b[0m\u001b[1;33m(\u001b[0m\u001b[0mseries_gen\u001b[0m\u001b[1;33m)\u001b[0m\u001b[1;33m:\u001b[0m\u001b[1;33m\u001b[0m\u001b[0m\n\u001b[1;32m-> 4358\u001b[1;33m                     \u001b[0mresults\u001b[0m\u001b[1;33m[\u001b[0m\u001b[0mi\u001b[0m\u001b[1;33m]\u001b[0m \u001b[1;33m=\u001b[0m \u001b[0mfunc\u001b[0m\u001b[1;33m(\u001b[0m\u001b[0mv\u001b[0m\u001b[1;33m)\u001b[0m\u001b[1;33m\u001b[0m\u001b[0m\n\u001b[0m\u001b[0;32m   4359\u001b[0m                     \u001b[0mkeys\u001b[0m\u001b[1;33m.\u001b[0m\u001b[0mappend\u001b[0m\u001b[1;33m(\u001b[0m\u001b[0mv\u001b[0m\u001b[1;33m.\u001b[0m\u001b[0mname\u001b[0m\u001b[1;33m)\u001b[0m\u001b[1;33m\u001b[0m\u001b[0m\n\u001b[0;32m   4360\u001b[0m             \u001b[1;32mexcept\u001b[0m \u001b[0mException\u001b[0m \u001b[1;32mas\u001b[0m \u001b[0me\u001b[0m\u001b[1;33m:\u001b[0m\u001b[1;33m\u001b[0m\u001b[0m\n",
      "\u001b[1;32mC:\\Users\\seanm\\Anaconda\\lib\\site-packages\\pandas\\core\\tools\\numeric.pyc\u001b[0m in \u001b[0;36mto_numeric\u001b[1;34m(arg, errors, downcast)\u001b[0m\n\u001b[0;32m    124\u001b[0m             \u001b[0mcoerce_numeric\u001b[0m \u001b[1;33m=\u001b[0m \u001b[0mFalse\u001b[0m \u001b[1;32mif\u001b[0m \u001b[0merrors\u001b[0m \u001b[1;32min\u001b[0m \u001b[1;33m(\u001b[0m\u001b[1;34m'ignore'\u001b[0m\u001b[1;33m,\u001b[0m \u001b[1;34m'raise'\u001b[0m\u001b[1;33m)\u001b[0m \u001b[1;32melse\u001b[0m \u001b[0mTrue\u001b[0m\u001b[1;33m\u001b[0m\u001b[0m\n\u001b[0;32m    125\u001b[0m             values = lib.maybe_convert_numeric(values, set(),\n\u001b[1;32m--> 126\u001b[1;33m                                                coerce_numeric=coerce_numeric)\n\u001b[0m\u001b[0;32m    127\u001b[0m \u001b[1;33m\u001b[0m\u001b[0m\n\u001b[0;32m    128\u001b[0m     \u001b[1;32mexcept\u001b[0m \u001b[0mException\u001b[0m\u001b[1;33m:\u001b[0m\u001b[1;33m\u001b[0m\u001b[0m\n",
      "\u001b[1;32mpandas/_libs/src\\inference.pyx\u001b[0m in \u001b[0;36mpandas._libs.lib.maybe_convert_numeric\u001b[1;34m()\u001b[0m\n",
      "\u001b[1;31mValueError\u001b[0m: ('Unable to parse string \"185 cm\" at position 0', u'occurred at index height')"
     ]
    }
   ],
   "source": [
    "#Convert the \"height\" and \"weight\" columns to float types\n",
    "fifa[['height','weight']]= fifa[['height','weight']].apply(pd.to_numeric)"
   ]
  },
  {
   "cell_type": "code",
   "execution_count": 187,
   "metadata": {
    "collapsed": true
   },
   "outputs": [],
   "source": [
    "# Check to see if there any nulls, if so drop them from the dataset\n"
   ]
  },
  {
   "cell_type": "code",
   "execution_count": 198,
   "metadata": {},
   "outputs": [
    {
     "data": {
      "text/html": [
       "<div>\n",
       "<style>\n",
       "    .dataframe thead tr:only-child th {\n",
       "        text-align: right;\n",
       "    }\n",
       "\n",
       "    .dataframe thead th {\n",
       "        text-align: left;\n",
       "    }\n",
       "\n",
       "    .dataframe tbody tr th {\n",
       "        vertical-align: top;\n",
       "    }\n",
       "</style>\n",
       "<table border=\"1\" class=\"dataframe\">\n",
       "  <thead>\n",
       "    <tr style=\"text-align: right;\">\n",
       "      <th></th>\n",
       "      <th>height</th>\n",
       "      <th>weight</th>\n",
       "    </tr>\n",
       "    <tr>\n",
       "      <th>name</th>\n",
       "      <th></th>\n",
       "      <th></th>\n",
       "    </tr>\n",
       "  </thead>\n",
       "  <tbody>\n",
       "    <tr>\n",
       "      <th>Cristiano Ronaldo</th>\n",
       "      <td>185 cm</td>\n",
       "      <td>80 kg</td>\n",
       "    </tr>\n",
       "    <tr>\n",
       "      <th>Lionel Messi</th>\n",
       "      <td>170 cm</td>\n",
       "      <td>72 kg</td>\n",
       "    </tr>\n",
       "    <tr>\n",
       "      <th>Neymar</th>\n",
       "      <td>174 cm</td>\n",
       "      <td>68 kg</td>\n",
       "    </tr>\n",
       "    <tr>\n",
       "      <th>Luis Suárez</th>\n",
       "      <td>182 cm</td>\n",
       "      <td>85 kg</td>\n",
       "    </tr>\n",
       "    <tr>\n",
       "      <th>Robert Lewandowski</th>\n",
       "      <td>185 cm</td>\n",
       "      <td>79 kg</td>\n",
       "    </tr>\n",
       "    <tr>\n",
       "      <th>Gareth Bale</th>\n",
       "      <td>183 cm</td>\n",
       "      <td>74 kg</td>\n",
       "    </tr>\n",
       "    <tr>\n",
       "      <th>Zlatan Ibrahimović</th>\n",
       "      <td>195 cm</td>\n",
       "      <td>95 kg</td>\n",
       "    </tr>\n",
       "    <tr>\n",
       "      <th>Jérôme Boateng</th>\n",
       "      <td>192 cm</td>\n",
       "      <td>90 kg</td>\n",
       "    </tr>\n",
       "    <tr>\n",
       "      <th>Eden Hazard</th>\n",
       "      <td>173 cm</td>\n",
       "      <td>74 kg</td>\n",
       "    </tr>\n",
       "    <tr>\n",
       "      <th>Luka Modrić</th>\n",
       "      <td>174 cm</td>\n",
       "      <td>65 kg</td>\n",
       "    </tr>\n",
       "    <tr>\n",
       "      <th>Mesut Özil</th>\n",
       "      <td>180 cm</td>\n",
       "      <td>76 kg</td>\n",
       "    </tr>\n",
       "    <tr>\n",
       "      <th>Gonzalo Higuaín</th>\n",
       "      <td>184 cm</td>\n",
       "      <td>92 kg</td>\n",
       "    </tr>\n",
       "    <tr>\n",
       "      <th>Thiago Silva</th>\n",
       "      <td>183 cm</td>\n",
       "      <td>79 kg</td>\n",
       "    </tr>\n",
       "    <tr>\n",
       "      <th>Sergio Ramos</th>\n",
       "      <td>183 cm</td>\n",
       "      <td>75 kg</td>\n",
       "    </tr>\n",
       "    <tr>\n",
       "      <th>Sergio Agüero</th>\n",
       "      <td>173 cm</td>\n",
       "      <td>70 kg</td>\n",
       "    </tr>\n",
       "    <tr>\n",
       "      <th>Paul Pogba</th>\n",
       "      <td>191 cm</td>\n",
       "      <td>84 kg</td>\n",
       "    </tr>\n",
       "    <tr>\n",
       "      <th>Antoine Griezmann</th>\n",
       "      <td>176 cm</td>\n",
       "      <td>67 kg</td>\n",
       "    </tr>\n",
       "    <tr>\n",
       "      <th>Kevin De Bruyne</th>\n",
       "      <td>181 cm</td>\n",
       "      <td>68 kg</td>\n",
       "    </tr>\n",
       "    <tr>\n",
       "      <th>Marco Reus</th>\n",
       "      <td>182 cm</td>\n",
       "      <td>76 kg</td>\n",
       "    </tr>\n",
       "    <tr>\n",
       "      <th>Alexis Sánchez</th>\n",
       "      <td>169 cm</td>\n",
       "      <td>62 kg</td>\n",
       "    </tr>\n",
       "    <tr>\n",
       "      <th>Toni Kroos</th>\n",
       "      <td>182 cm</td>\n",
       "      <td>78 kg</td>\n",
       "    </tr>\n",
       "    <tr>\n",
       "      <th>Diego Godín</th>\n",
       "      <td>185 cm</td>\n",
       "      <td>73 kg</td>\n",
       "    </tr>\n",
       "    <tr>\n",
       "      <th>Mats Hummels</th>\n",
       "      <td>191 cm</td>\n",
       "      <td>92 kg</td>\n",
       "    </tr>\n",
       "    <tr>\n",
       "      <th>Giorgio Chiellini</th>\n",
       "      <td>187 cm</td>\n",
       "      <td>84 kg</td>\n",
       "    </tr>\n",
       "    <tr>\n",
       "      <th>Philipp Lahm</th>\n",
       "      <td>170 cm</td>\n",
       "      <td>66 kg</td>\n",
       "    </tr>\n",
       "    <tr>\n",
       "      <th>Pepe</th>\n",
       "      <td>188 cm</td>\n",
       "      <td>81 kg</td>\n",
       "    </tr>\n",
       "    <tr>\n",
       "      <th>Iniesta</th>\n",
       "      <td>171 cm</td>\n",
       "      <td>68 kg</td>\n",
       "    </tr>\n",
       "    <tr>\n",
       "      <th>James Rodríguez</th>\n",
       "      <td>180 cm</td>\n",
       "      <td>75 kg</td>\n",
       "    </tr>\n",
       "    <tr>\n",
       "      <th>Pierre-Emerick Aubameyang</th>\n",
       "      <td>187 cm</td>\n",
       "      <td>80 kg</td>\n",
       "    </tr>\n",
       "    <tr>\n",
       "      <th>Leonardo Bonucci</th>\n",
       "      <td>190 cm</td>\n",
       "      <td>85 kg</td>\n",
       "    </tr>\n",
       "    <tr>\n",
       "      <th>...</th>\n",
       "      <td>...</td>\n",
       "      <td>...</td>\n",
       "    </tr>\n",
       "    <tr>\n",
       "      <th>Borja Fernández</th>\n",
       "      <td>185 cm</td>\n",
       "      <td>73 kg</td>\n",
       "    </tr>\n",
       "    <tr>\n",
       "      <th>Chris Burke</th>\n",
       "      <td>175 cm</td>\n",
       "      <td>68 kg</td>\n",
       "    </tr>\n",
       "    <tr>\n",
       "      <th>Markus Feulner</th>\n",
       "      <td>183 cm</td>\n",
       "      <td>82 kg</td>\n",
       "    </tr>\n",
       "    <tr>\n",
       "      <th>Kris Commons</th>\n",
       "      <td>168 cm</td>\n",
       "      <td>64 kg</td>\n",
       "    </tr>\n",
       "    <tr>\n",
       "      <th>Lee Camp</th>\n",
       "      <td>182 cm</td>\n",
       "      <td>74 kg</td>\n",
       "    </tr>\n",
       "    <tr>\n",
       "      <th>Gary O'Neil</th>\n",
       "      <td>173 cm</td>\n",
       "      <td>61 kg</td>\n",
       "    </tr>\n",
       "    <tr>\n",
       "      <th>Alain Rochat</th>\n",
       "      <td>182 cm</td>\n",
       "      <td>78 kg</td>\n",
       "    </tr>\n",
       "    <tr>\n",
       "      <th>Cédric Varrault</th>\n",
       "      <td>182 cm</td>\n",
       "      <td>76 kg</td>\n",
       "    </tr>\n",
       "    <tr>\n",
       "      <th>Julio Álvarez</th>\n",
       "      <td>180 cm</td>\n",
       "      <td>71 kg</td>\n",
       "    </tr>\n",
       "    <tr>\n",
       "      <th>Philippe Senderos</th>\n",
       "      <td>190 cm</td>\n",
       "      <td>84 kg</td>\n",
       "    </tr>\n",
       "    <tr>\n",
       "      <th>Karim Ziani</th>\n",
       "      <td>169 cm</td>\n",
       "      <td>68 kg</td>\n",
       "    </tr>\n",
       "    <tr>\n",
       "      <th>Morten Rasmussen</th>\n",
       "      <td>186 cm</td>\n",
       "      <td>89 kg</td>\n",
       "    </tr>\n",
       "    <tr>\n",
       "      <th>DaMarcus Beasley</th>\n",
       "      <td>172 cm</td>\n",
       "      <td>68 kg</td>\n",
       "    </tr>\n",
       "    <tr>\n",
       "      <th>Dorus de Vries</th>\n",
       "      <td>190 cm</td>\n",
       "      <td>96 kg</td>\n",
       "    </tr>\n",
       "    <tr>\n",
       "      <th>Dean Whitehead</th>\n",
       "      <td>183 cm</td>\n",
       "      <td>77 kg</td>\n",
       "    </tr>\n",
       "    <tr>\n",
       "      <th>Clint Hill</th>\n",
       "      <td>183 cm</td>\n",
       "      <td>73 kg</td>\n",
       "    </tr>\n",
       "    <tr>\n",
       "      <th>Luke Steele</th>\n",
       "      <td>188 cm</td>\n",
       "      <td>76 kg</td>\n",
       "    </tr>\n",
       "    <tr>\n",
       "      <th>Aaron Hughes</th>\n",
       "      <td>183 cm</td>\n",
       "      <td>70 kg</td>\n",
       "    </tr>\n",
       "    <tr>\n",
       "      <th>Paul Robinson</th>\n",
       "      <td>193 cm</td>\n",
       "      <td>90 kg</td>\n",
       "    </tr>\n",
       "    <tr>\n",
       "      <th>Vítor Silva</th>\n",
       "      <td>169 cm</td>\n",
       "      <td>69 kg</td>\n",
       "    </tr>\n",
       "    <tr>\n",
       "      <th>Diederik Boer</th>\n",
       "      <td>194 cm</td>\n",
       "      <td>89 kg</td>\n",
       "    </tr>\n",
       "    <tr>\n",
       "      <th>Manu Herrera</th>\n",
       "      <td>182 cm</td>\n",
       "      <td>75 kg</td>\n",
       "    </tr>\n",
       "    <tr>\n",
       "      <th>Takahiro Sekine</th>\n",
       "      <td>167 cm</td>\n",
       "      <td>61 kg</td>\n",
       "    </tr>\n",
       "    <tr>\n",
       "      <th>Walter Bou</th>\n",
       "      <td>174 cm</td>\n",
       "      <td>69 kg</td>\n",
       "    </tr>\n",
       "    <tr>\n",
       "      <th>Ioannis Mystakidis</th>\n",
       "      <td>181 cm</td>\n",
       "      <td>76 kg</td>\n",
       "    </tr>\n",
       "    <tr>\n",
       "      <th>Bismar Acosta</th>\n",
       "      <td>182 cm</td>\n",
       "      <td>92 kg</td>\n",
       "    </tr>\n",
       "    <tr>\n",
       "      <th>Patryk Małecki</th>\n",
       "      <td>170 cm</td>\n",
       "      <td>73 kg</td>\n",
       "    </tr>\n",
       "    <tr>\n",
       "      <th>Mitsuo Ogasawara</th>\n",
       "      <td>173 cm</td>\n",
       "      <td>72 kg</td>\n",
       "    </tr>\n",
       "    <tr>\n",
       "      <th>Romario Benzar</th>\n",
       "      <td>185 cm</td>\n",
       "      <td>79 kg</td>\n",
       "    </tr>\n",
       "    <tr>\n",
       "      <th>Anatole Ngamukol</th>\n",
       "      <td>178 cm</td>\n",
       "      <td>70 kg</td>\n",
       "    </tr>\n",
       "  </tbody>\n",
       "</table>\n",
       "<p>5232 rows × 2 columns</p>\n",
       "</div>"
      ],
      "text/plain": [
       "                           height weight\n",
       "name                                    \n",
       "Cristiano Ronaldo          185 cm  80 kg\n",
       "Lionel Messi               170 cm  72 kg\n",
       "Neymar                     174 cm  68 kg\n",
       "Luis Suárez                182 cm  85 kg\n",
       "Robert Lewandowski         185 cm  79 kg\n",
       "Gareth Bale                183 cm  74 kg\n",
       "Zlatan Ibrahimović         195 cm  95 kg\n",
       "Jérôme Boateng             192 cm  90 kg\n",
       "Eden Hazard                173 cm  74 kg\n",
       "Luka Modrić                174 cm  65 kg\n",
       "Mesut Özil                 180 cm  76 kg\n",
       "Gonzalo Higuaín            184 cm  92 kg\n",
       "Thiago Silva               183 cm  79 kg\n",
       "Sergio Ramos               183 cm  75 kg\n",
       "Sergio Agüero              173 cm  70 kg\n",
       "Paul Pogba                 191 cm  84 kg\n",
       "Antoine Griezmann          176 cm  67 kg\n",
       "Kevin De Bruyne            181 cm  68 kg\n",
       "Marco Reus                 182 cm  76 kg\n",
       "Alexis Sánchez             169 cm  62 kg\n",
       "Toni Kroos                 182 cm  78 kg\n",
       "Diego Godín                185 cm  73 kg\n",
       "Mats Hummels               191 cm  92 kg\n",
       "Giorgio Chiellini          187 cm  84 kg\n",
       "Philipp Lahm               170 cm  66 kg\n",
       "Pepe                       188 cm  81 kg\n",
       "Iniesta                    171 cm  68 kg\n",
       "James Rodríguez            180 cm  75 kg\n",
       "Pierre-Emerick Aubameyang  187 cm  80 kg\n",
       "Leonardo Bonucci           190 cm  85 kg\n",
       "...                           ...    ...\n",
       "Borja Fernández            185 cm  73 kg\n",
       "Chris Burke                175 cm  68 kg\n",
       "Markus Feulner             183 cm  82 kg\n",
       "Kris Commons               168 cm  64 kg\n",
       "Lee Camp                   182 cm  74 kg\n",
       "Gary O'Neil                173 cm  61 kg\n",
       "Alain Rochat               182 cm  78 kg\n",
       "Cédric Varrault            182 cm  76 kg\n",
       "Julio Álvarez              180 cm  71 kg\n",
       "Philippe Senderos          190 cm  84 kg\n",
       "Karim Ziani                169 cm  68 kg\n",
       "Morten Rasmussen           186 cm  89 kg\n",
       "DaMarcus Beasley           172 cm  68 kg\n",
       "Dorus de Vries             190 cm  96 kg\n",
       "Dean Whitehead             183 cm  77 kg\n",
       "Clint Hill                 183 cm  73 kg\n",
       "Luke Steele                188 cm  76 kg\n",
       "Aaron Hughes               183 cm  70 kg\n",
       "Paul Robinson              193 cm  90 kg\n",
       "Vítor Silva                169 cm  69 kg\n",
       "Diederik Boer              194 cm  89 kg\n",
       "Manu Herrera               182 cm  75 kg\n",
       "Takahiro Sekine            167 cm  61 kg\n",
       "Walter Bou                 174 cm  69 kg\n",
       "Ioannis Mystakidis         181 cm  76 kg\n",
       "Bismar Acosta              182 cm  92 kg\n",
       "Patryk Małecki             170 cm  73 kg\n",
       "Mitsuo Ogasawara           173 cm  72 kg\n",
       "Romario Benzar             185 cm  79 kg\n",
       "Anatole Ngamukol           178 cm  70 kg\n",
       "\n",
       "[5232 rows x 2 columns]"
      ]
     },
     "execution_count": 198,
     "metadata": {},
     "output_type": "execute_result"
    }
   ],
   "source": [
    "fifa[['height','weight']]"
   ]
  },
  {
   "cell_type": "markdown",
   "metadata": {},
   "source": [
    "### 2.  Who are the top five players of the following attributes: speed, marking, and finishing"
   ]
  },
  {
   "cell_type": "code",
   "execution_count": null,
   "metadata": {
    "collapsed": true
   },
   "outputs": [],
   "source": []
  },
  {
   "cell_type": "markdown",
   "metadata": {},
   "source": [
    "### 3. Who is the tallest French lefted foot player?"
   ]
  },
  {
   "cell_type": "code",
   "execution_count": null,
   "metadata": {
    "collapsed": true
   },
   "outputs": [],
   "source": []
  },
  {
   "cell_type": "markdown",
   "metadata": {},
   "source": [
    "### 4. Show a pandas series of every attribute's correlation with the rating attribute"
   ]
  },
  {
   "cell_type": "code",
   "execution_count": null,
   "metadata": {
    "collapsed": true
   },
   "outputs": [],
   "source": []
  },
  {
   "cell_type": "markdown",
   "metadata": {},
   "source": [
    "### 5. Make a heatmap of the dataset's correlation table"
   ]
  },
  {
   "cell_type": "code",
   "execution_count": null,
   "metadata": {
    "collapsed": true
   },
   "outputs": [],
   "source": []
  },
  {
   "cell_type": "markdown",
   "metadata": {},
   "source": [
    "### 6. Return a dataframe with only players from the following clubs. Call the dataframe fifa2. From now on we'll be using fifa2"
   ]
  },
  {
   "cell_type": "code",
   "execution_count": 188,
   "metadata": {
    "collapsed": true
   },
   "outputs": [],
   "source": [
    "clubs_list = ['Real Madrid', 'FC Barcelona', 'FC Bayern', 'Manchester Utd',\n",
    "              'Chelsea', 'Arsenal', 'Juventus', 'PSG', 'Manchester City',\n",
    "              'Bor. Dortmund', 'Liverpool', 'Roma']"
   ]
  },
  {
   "cell_type": "code",
   "execution_count": null,
   "metadata": {
    "collapsed": true
   },
   "outputs": [],
   "source": []
  },
  {
   "cell_type": "markdown",
   "metadata": {},
   "source": [
    "### 7. Make a bar plot of the average long_shots, curve, and dribbling attributes of the clubs in the data"
   ]
  },
  {
   "cell_type": "code",
   "execution_count": null,
   "metadata": {
    "collapsed": true
   },
   "outputs": [],
   "source": []
  },
  {
   "cell_type": "markdown",
   "metadata": {},
   "source": [
    "### 8. Make a scatter plot of short_pass vs marking and use the preffered_foot column to color-encode the dots."
   ]
  },
  {
   "cell_type": "code",
   "execution_count": null,
   "metadata": {
    "collapsed": true
   },
   "outputs": [],
   "source": []
  }
 ],
 "metadata": {
  "anaconda-cloud": {},
  "kernelspec": {
   "display_name": "Python 2",
   "language": "python",
   "name": "python2"
  },
  "language_info": {
   "codemirror_mode": {
    "name": "ipython",
    "version": 2
   },
   "file_extension": ".py",
   "mimetype": "text/x-python",
   "name": "python",
   "nbconvert_exporter": "python",
   "pygments_lexer": "ipython2",
   "version": "2.7.14"
  }
 },
 "nbformat": 4,
 "nbformat_minor": 1
}
